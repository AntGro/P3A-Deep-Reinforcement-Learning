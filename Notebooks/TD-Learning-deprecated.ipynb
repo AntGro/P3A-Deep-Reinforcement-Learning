{
 "cells": [
  {
   "cell_type": "markdown",
   "metadata": {},
   "source": [
    "# Reinforcement Learning - Toy examples with Gym\n",
    "\n",
    "## FrozenLake\n",
    "\n",
    "In this Notebook, we will implement $SARSA$ and $Q-Learning$ methods to solve the FrozenLake8x8 environment (https://gym.openai.com/envs/FrozenLake-v0/), using and comparing different policies for exploration. Note that it is a stochastic envivonment since, as mentioned in the documentation, \"the ice is slippery, so you won't always move in the direction you intend\".\n",
    "\n",
    "Both algorithms update a tabular estimate of the $Q-function$ using a following update rule:\n",
    "* $SARSA$ algorithm is an on-policy method using:\n",
    "$$Q_{t+1}(s_t,a_t) \\leftarrow Q_t(s_t,a_t) + \\alpha (r_t + \\gamma Q_t(s_{t+1}, a_{t+1}) - Q_t(s_t,a_t))$$\n",
    "\n",
    "* $Q-Learning$ algorithm is an off-policy method using:\n",
    "$$Q_{t+1}(s_t,a_t) \\leftarrow Q_t(s_t,a_t) + \\alpha (r_t + \\gamma \\max_b Q_t(s_{t+1}, b) - Q_t(s_t,a_t))$$\n",
    "\n",
    "For exploration, we will compare performances between:\n",
    "* $\\epsilon$-greedy policy with a fixed $\\epsilon$.\n",
    "* $\\epsilon$-greedy policy with a decaying $\\epsilon$.\n",
    "* softmax exploration assigning a probability for an action to be\n",
    "performed according to the following rule:\n",
    "$$P(a_i \\vert s) = \\frac{e^{\\frac{1}{\\tau}Q(s,a_j)}}{\\sum_j e^{\\frac{1}{\\tau}Q(s,a_j)}}$$"
   ]
  },
  {
   "cell_type": "code",
   "execution_count": 1,
   "metadata": {},
   "outputs": [],
   "source": [
    "import gym\n",
    "import numpy as np\n",
    "import matplotlib.pyplot as plt\n",
    "%matplotlib inline\n",
    "import pandas as pd"
   ]
  },
  {
   "cell_type": "code",
   "execution_count": 4,
   "metadata": {},
   "outputs": [
    {
     "name": "stderr",
     "output_type": "stream",
     "text": [
      "c:\\environments\\drl_env\\lib\\site-packages\\gym\\envs\\registration.py:14: PkgResourcesDeprecationWarning: Parameters to load are deprecated.  Call .resolve and .require separately.\n",
      "  result = entry_point.load(False)\n"
     ]
    }
   ],
   "source": [
    "env = gym.make(\"FrozenLake8x8-v0\")"
   ]
  },
  {
   "cell_type": "code",
   "execution_count": 5,
   "metadata": {},
   "outputs": [],
   "source": [
    "def chooseAction(q_table, state, epsilon = 0, softmax = True, tau = 0.01):\n",
    "    \"\"\"Choose an action.\n",
    "  \n",
    "  Args:\n",
    "    q_table: Q-table.\n",
    "    state: state\n",
    "    epsilon: epsilon\n",
    "    softmax: boolean set to $True$ if softmax exploration is used\n",
    "    tau: parameter of the softmax exploration.\n",
    "  Returns:\n",
    "    Action \n",
    "  \"\"\"\n",
    "    if softmax:\n",
    "        m = max(q_table[state])\n",
    "        aux = np.exp((q_table[state] - m)/tau)\n",
    "        d = np.sum(aux)\n",
    "        return np.random.choice (np.arange(env.action_space.n), p=aux / d)\n",
    "    if np.random.random () > epsilon:\n",
    "        return np.argmax(q_table[state])\n",
    "    return env.action_space.sample()"
   ]
  },
  {
   "cell_type": "code",
   "execution_count": 6,
   "metadata": {},
   "outputs": [],
   "source": [
    "def routine(algo, nEpisode = 2000, gamma = 0.99, alpha = 0.4, epsilon0 = 0.9, epsilonMin = 0.05, decreaseRate = 0.999, softmax = False, tau = 0.01, window = 100):\n",
    "    \"\"\"Body function used to implement both $SARSA$ and $Q$-Learning, since only the estimation of the error changes between the two methods.\n",
    "  \n",
    "  Args:\n",
    "    algo: either \"SARSA\" or \"QLearning\"\n",
    "* nEpisode: number of episodes we simulate to update our Q-function\n",
    "* gamma: discount factor\n",
    "* alpha: learning rate\n",
    "* epsilon_0: initial value of epsilon\n",
    "* epsilonMin: minimal value of $\\epsilon$ if a decaying $\\epsilon$ is used\n",
    "* decreaseRate: geometric parameter of the decaying of epsilon (set to 1 if no decaying)\n",
    "* softmax: boolean set to True if softmax exploration is used\n",
    "* tau: parameter of the softmax exploration\n",
    "* window: number of episodes we consider to compute the success rate (or accuracy) of the Q-function ; ratio of successes on the last $window$ episodes\n",
    "  Returns:\n",
    "    q_table: the Q-table\n",
    "    histAcc: array where accuracies are stored \n",
    "  \"\"\"\n",
    "    accuracy = 0\n",
    "    epsilon = epsilon0\n",
    "    q_table = np.ones((env.observation_space.n, env.action_space.n))\n",
    "    result = np.zeros (window)\n",
    "    histAcc = [0]\n",
    "    episode = 0\n",
    "    \n",
    "    for ep in range(nEpisode):\n",
    "        epsilon = max(epsilonMin, decreaseRate * epsilon)\n",
    "        observation0 = env.reset()\n",
    "        action0 = chooseAction(q_table, observation0, epsilon, softmax, tau)\n",
    "        done  = False\n",
    "        for H in range(200):\n",
    "            observation1, reward, done, info = env.step(action0)\n",
    "            action1 = chooseAction(q_table, observation1, epsilon, softmax, tau)\n",
    "            err = reward - q_table[observation0, action0]\n",
    "            \n",
    "            if not done:\n",
    "                if algo == \"SARSA\":\n",
    "                    err += gamma * q_table[observation1, action1]\n",
    "                if algo == \"QLearning\":\n",
    "                    err += gamma * q_table[observation1, np.argmax(q_table[observation1])]\n",
    "            \n",
    "            q_table[observation0, action0] += alpha * err\n",
    "            \n",
    "            if done:\n",
    "                break\n",
    "            \n",
    "            observation0, action0 = observation1, action1\n",
    "\n",
    "        success = 1 if (reward == 1) else 0\n",
    "        accuracy += (success - result[episode]) / window\n",
    "        result[episode] = success\n",
    "        episode = (episode + 1) % window\n",
    "        if episode == 0 or episode == window//2: # accuracy ratio is stored once in @window/2 episodes\n",
    "            histAcc.append(accuracy)\n",
    "\n",
    "    return q_table, histAcc"
   ]
  },
  {
   "cell_type": "code",
   "execution_count": 7,
   "metadata": {},
   "outputs": [],
   "source": [
    "def routineTh(algo, threshold = 0.8, gamma = 0.99, alpha = 0.4, epsilon0 = 0.9, epsilonMin = 0.05, decreaseRate = 0.999, softmax = False, tau = 0.01, window = 100):\n",
    "    accuracy = 0\n",
    "    epsilon = epsilon0\n",
    "    q_table = np.ones((env.observation_space.n, env.action_space.n))\n",
    "    result = np.zeros (window)\n",
    "    histAcc = [0]\n",
    "    episode = 0\n",
    "    \n",
    "    while accuracy < threshold:\n",
    "        epsilon = max(epsilonMin, decreaseRate * epsilon)\n",
    "        observation0 = env.reset()\n",
    "        action0 = chooseAction(q_table, observation0, epsilon, softmax, tau)\n",
    "        done  = False\n",
    "        for H in range(200):\n",
    "            observation1, reward, done, info = env.step(action0)\n",
    "            action1 = chooseAction(q_table, observation1, epsilon, softmax, tau)\n",
    "            err = reward - q_table[observation0, action0]\n",
    "            \n",
    "            if not done:\n",
    "                if algo == \"SARSA\":\n",
    "                    err += gamma * q_table[observation1, action1]\n",
    "                if algo == \"QLearning\":\n",
    "                    err += gamma * q_table[observation1, np.argmax(q_table[observation1])]\n",
    "            \n",
    "            q_table[observation0, action0] += alpha * err\n",
    "            \n",
    "            if done:\n",
    "                break\n",
    "            \n",
    "            observation0, action0 = observation1, action1\n",
    "\n",
    "        accuracy += (reward - result[episode % window]) / window\n",
    "        result[episode % window] = reward\n",
    "        episode = episode + 1 \n",
    "        histAcc.append(accuracy)\n",
    "\n",
    "    return q_table, histAcc, episode"
   ]
  },
  {
   "cell_type": "markdown",
   "metadata": {},
   "source": [
    "### SARSA"
   ]
  },
  {
   "cell_type": "code",
   "execution_count": null,
   "metadata": {},
   "outputs": [],
   "source": [
    "def SARSA(nEpisode = 2000, gamma = 0.999, alpha = 0.4, epsilon0 = 0.9, epsilonMin = 0.05, decreaseRate = False, softmax = True, tau = 0.01, window = 100):\n",
    "    return routine(\"SARSA\", nEpisode, gamma, alpha, epsilon0, epsilonMin, decreaseRate, softmax, tau, window)\n",
    "\n",
    "\n",
    "w = 100\n",
    "nEpisode = 150000\n",
    "q_table, histAcc = SARSA(nEpisode, softmax = True, window=w, tau = 0.001)\n",
    "plt.plot(w // 2 * np.arange(len(histAcc)), histAcc)\n",
    "\n",
    "plt.xlabel(\"Number of episodes\")\n",
    "plt.ylabel(\"Accuracy on the {} last episodes\".format(w))\n",
    "plt.title(\"SARSA training on {} episodes\".format(nEpisode))"
   ]
  },
  {
   "cell_type": "code",
   "execution_count": 35,
   "metadata": {},
   "outputs": [
    {
     "ename": "KeyboardInterrupt",
     "evalue": "",
     "output_type": "error",
     "traceback": [
      "\u001b[1;31m---------------------------------------------------------------------------\u001b[0m",
      "\u001b[1;31mKeyboardInterrupt\u001b[0m                         Traceback (most recent call last)",
      "\u001b[1;32m<ipython-input-35-90a51816b5b7>\u001b[0m in \u001b[0;36m<module>\u001b[1;34m\u001b[0m\n\u001b[0;32m      5\u001b[0m \u001b[0mw\u001b[0m \u001b[1;33m=\u001b[0m \u001b[1;36m100\u001b[0m\u001b[1;33m\u001b[0m\u001b[0m\n\u001b[0;32m      6\u001b[0m \u001b[0mthreshold\u001b[0m \u001b[1;33m=\u001b[0m \u001b[1;36m0.8\u001b[0m\u001b[1;33m\u001b[0m\u001b[0m\n\u001b[1;32m----> 7\u001b[1;33m \u001b[0mq_table\u001b[0m\u001b[1;33m,\u001b[0m \u001b[0mhistAcc\u001b[0m\u001b[1;33m,\u001b[0m \u001b[0mepisode\u001b[0m \u001b[1;33m=\u001b[0m \u001b[0mSARSATh\u001b[0m\u001b[1;33m(\u001b[0m\u001b[0mthreshold\u001b[0m\u001b[1;33m,\u001b[0m \u001b[0msoftmax\u001b[0m \u001b[1;33m=\u001b[0m \u001b[1;32mTrue\u001b[0m\u001b[1;33m,\u001b[0m \u001b[0mwindow\u001b[0m\u001b[1;33m=\u001b[0m\u001b[0mw\u001b[0m\u001b[1;33m,\u001b[0m \u001b[0mtau\u001b[0m \u001b[1;33m=\u001b[0m \u001b[1;36m0.001\u001b[0m\u001b[1;33m)\u001b[0m\u001b[1;33m\u001b[0m\u001b[0m\n\u001b[0m\u001b[0;32m      8\u001b[0m \u001b[0mplt\u001b[0m\u001b[1;33m.\u001b[0m\u001b[0mplot\u001b[0m\u001b[1;33m(\u001b[0m\u001b[0mnp\u001b[0m\u001b[1;33m.\u001b[0m\u001b[0marange\u001b[0m\u001b[1;33m(\u001b[0m\u001b[0mlen\u001b[0m\u001b[1;33m(\u001b[0m\u001b[0mhistAcc\u001b[0m\u001b[1;33m)\u001b[0m\u001b[1;33m)\u001b[0m\u001b[1;33m,\u001b[0m \u001b[0mhistAcc\u001b[0m\u001b[1;33m)\u001b[0m\u001b[1;33m\u001b[0m\u001b[0m\n\u001b[0;32m      9\u001b[0m \u001b[1;33m\u001b[0m\u001b[0m\n",
      "\u001b[1;32m<ipython-input-35-90a51816b5b7>\u001b[0m in \u001b[0;36mSARSATh\u001b[1;34m(threshold, gamma, alpha, epsilon0, epsilonMin, decreaseRate, softmax, tau, window)\u001b[0m\n\u001b[0;32m      1\u001b[0m \u001b[1;32mdef\u001b[0m \u001b[0mSARSATh\u001b[0m\u001b[1;33m(\u001b[0m\u001b[0mthreshold\u001b[0m \u001b[1;33m=\u001b[0m \u001b[1;36m0.8\u001b[0m\u001b[1;33m,\u001b[0m \u001b[0mgamma\u001b[0m \u001b[1;33m=\u001b[0m \u001b[1;36m0.999\u001b[0m\u001b[1;33m,\u001b[0m \u001b[0malpha\u001b[0m \u001b[1;33m=\u001b[0m \u001b[1;36m0.4\u001b[0m\u001b[1;33m,\u001b[0m \u001b[0mepsilon0\u001b[0m \u001b[1;33m=\u001b[0m \u001b[1;36m0.9\u001b[0m\u001b[1;33m,\u001b[0m \u001b[0mepsilonMin\u001b[0m \u001b[1;33m=\u001b[0m \u001b[1;36m0.05\u001b[0m\u001b[1;33m,\u001b[0m \u001b[0mdecreaseRate\u001b[0m \u001b[1;33m=\u001b[0m \u001b[1;32mFalse\u001b[0m\u001b[1;33m,\u001b[0m \u001b[0msoftmax\u001b[0m \u001b[1;33m=\u001b[0m \u001b[1;32mTrue\u001b[0m\u001b[1;33m,\u001b[0m \u001b[0mtau\u001b[0m \u001b[1;33m=\u001b[0m \u001b[1;36m0.01\u001b[0m\u001b[1;33m,\u001b[0m \u001b[0mwindow\u001b[0m \u001b[1;33m=\u001b[0m \u001b[1;36m100\u001b[0m\u001b[1;33m)\u001b[0m\u001b[1;33m:\u001b[0m\u001b[1;33m\u001b[0m\u001b[0m\n\u001b[1;32m----> 2\u001b[1;33m     \u001b[1;32mreturn\u001b[0m \u001b[0mroutineTh\u001b[0m\u001b[1;33m(\u001b[0m\u001b[1;34m\"SARSA\"\u001b[0m\u001b[1;33m,\u001b[0m \u001b[0mthreshold\u001b[0m\u001b[1;33m,\u001b[0m \u001b[0mgamma\u001b[0m\u001b[1;33m,\u001b[0m \u001b[0malpha\u001b[0m\u001b[1;33m,\u001b[0m \u001b[0mepsilon0\u001b[0m\u001b[1;33m,\u001b[0m \u001b[0mepsilonMin\u001b[0m\u001b[1;33m,\u001b[0m \u001b[0mdecreaseRate\u001b[0m\u001b[1;33m,\u001b[0m \u001b[0msoftmax\u001b[0m\u001b[1;33m,\u001b[0m \u001b[0mtau\u001b[0m\u001b[1;33m,\u001b[0m \u001b[0mwindow\u001b[0m\u001b[1;33m)\u001b[0m\u001b[1;33m\u001b[0m\u001b[0m\n\u001b[0m\u001b[0;32m      3\u001b[0m \u001b[1;33m\u001b[0m\u001b[0m\n\u001b[0;32m      4\u001b[0m \u001b[1;33m\u001b[0m\u001b[0m\n\u001b[0;32m      5\u001b[0m \u001b[0mw\u001b[0m \u001b[1;33m=\u001b[0m \u001b[1;36m100\u001b[0m\u001b[1;33m\u001b[0m\u001b[0m\n",
      "\u001b[1;32m<ipython-input-7-e48f14a88fa4>\u001b[0m in \u001b[0;36mroutineTh\u001b[1;34m(algo, threshold, gamma, alpha, epsilon0, epsilonMin, decreaseRate, softmax, tau, window)\u001b[0m\n\u001b[0;32m     13\u001b[0m         \u001b[0mdone\u001b[0m  \u001b[1;33m=\u001b[0m \u001b[1;32mFalse\u001b[0m\u001b[1;33m\u001b[0m\u001b[0m\n\u001b[0;32m     14\u001b[0m         \u001b[1;32mfor\u001b[0m \u001b[0mH\u001b[0m \u001b[1;32min\u001b[0m \u001b[0mrange\u001b[0m\u001b[1;33m(\u001b[0m\u001b[1;36m200\u001b[0m\u001b[1;33m)\u001b[0m\u001b[1;33m:\u001b[0m\u001b[1;33m\u001b[0m\u001b[0m\n\u001b[1;32m---> 15\u001b[1;33m             \u001b[0mobservation1\u001b[0m\u001b[1;33m,\u001b[0m \u001b[0mreward\u001b[0m\u001b[1;33m,\u001b[0m \u001b[0mdone\u001b[0m\u001b[1;33m,\u001b[0m \u001b[0minfo\u001b[0m \u001b[1;33m=\u001b[0m \u001b[0menv\u001b[0m\u001b[1;33m.\u001b[0m\u001b[0mstep\u001b[0m\u001b[1;33m(\u001b[0m\u001b[0maction0\u001b[0m\u001b[1;33m)\u001b[0m\u001b[1;33m\u001b[0m\u001b[0m\n\u001b[0m\u001b[0;32m     16\u001b[0m             \u001b[0maction1\u001b[0m \u001b[1;33m=\u001b[0m \u001b[0mchooseAction\u001b[0m\u001b[1;33m(\u001b[0m\u001b[0mq_table\u001b[0m\u001b[1;33m,\u001b[0m \u001b[0mobservation1\u001b[0m\u001b[1;33m,\u001b[0m \u001b[0mepsilon\u001b[0m\u001b[1;33m,\u001b[0m \u001b[0msoftmax\u001b[0m\u001b[1;33m,\u001b[0m \u001b[0mtau\u001b[0m\u001b[1;33m)\u001b[0m\u001b[1;33m\u001b[0m\u001b[0m\n\u001b[0;32m     17\u001b[0m             \u001b[0merr\u001b[0m \u001b[1;33m=\u001b[0m \u001b[0mreward\u001b[0m \u001b[1;33m-\u001b[0m \u001b[0mq_table\u001b[0m\u001b[1;33m[\u001b[0m\u001b[0mobservation0\u001b[0m\u001b[1;33m,\u001b[0m \u001b[0maction0\u001b[0m\u001b[1;33m]\u001b[0m\u001b[1;33m\u001b[0m\u001b[0m\n",
      "\u001b[1;32mc:\\environments\\drl_env\\lib\\site-packages\\gym\\wrappers\\time_limit.py\u001b[0m in \u001b[0;36mstep\u001b[1;34m(self, action)\u001b[0m\n\u001b[0;32m     29\u001b[0m     \u001b[1;32mdef\u001b[0m \u001b[0mstep\u001b[0m\u001b[1;33m(\u001b[0m\u001b[0mself\u001b[0m\u001b[1;33m,\u001b[0m \u001b[0maction\u001b[0m\u001b[1;33m)\u001b[0m\u001b[1;33m:\u001b[0m\u001b[1;33m\u001b[0m\u001b[0m\n\u001b[0;32m     30\u001b[0m         \u001b[1;32massert\u001b[0m \u001b[0mself\u001b[0m\u001b[1;33m.\u001b[0m\u001b[0m_episode_started_at\u001b[0m \u001b[1;32mis\u001b[0m \u001b[1;32mnot\u001b[0m \u001b[1;32mNone\u001b[0m\u001b[1;33m,\u001b[0m \u001b[1;34m\"Cannot call env.step() before calling reset()\"\u001b[0m\u001b[1;33m\u001b[0m\u001b[0m\n\u001b[1;32m---> 31\u001b[1;33m         \u001b[0mobservation\u001b[0m\u001b[1;33m,\u001b[0m \u001b[0mreward\u001b[0m\u001b[1;33m,\u001b[0m \u001b[0mdone\u001b[0m\u001b[1;33m,\u001b[0m \u001b[0minfo\u001b[0m \u001b[1;33m=\u001b[0m \u001b[0mself\u001b[0m\u001b[1;33m.\u001b[0m\u001b[0menv\u001b[0m\u001b[1;33m.\u001b[0m\u001b[0mstep\u001b[0m\u001b[1;33m(\u001b[0m\u001b[0maction\u001b[0m\u001b[1;33m)\u001b[0m\u001b[1;33m\u001b[0m\u001b[0m\n\u001b[0m\u001b[0;32m     32\u001b[0m         \u001b[0mself\u001b[0m\u001b[1;33m.\u001b[0m\u001b[0m_elapsed_steps\u001b[0m \u001b[1;33m+=\u001b[0m \u001b[1;36m1\u001b[0m\u001b[1;33m\u001b[0m\u001b[0m\n\u001b[0;32m     33\u001b[0m \u001b[1;33m\u001b[0m\u001b[0m\n",
      "\u001b[1;32mc:\\environments\\drl_env\\lib\\site-packages\\gym\\envs\\toy_text\\discrete.py\u001b[0m in \u001b[0;36mstep\u001b[1;34m(self, a)\u001b[0m\n\u001b[0;32m     53\u001b[0m     \u001b[1;32mdef\u001b[0m \u001b[0mstep\u001b[0m\u001b[1;33m(\u001b[0m\u001b[0mself\u001b[0m\u001b[1;33m,\u001b[0m \u001b[0ma\u001b[0m\u001b[1;33m)\u001b[0m\u001b[1;33m:\u001b[0m\u001b[1;33m\u001b[0m\u001b[0m\n\u001b[0;32m     54\u001b[0m         \u001b[0mtransitions\u001b[0m \u001b[1;33m=\u001b[0m \u001b[0mself\u001b[0m\u001b[1;33m.\u001b[0m\u001b[0mP\u001b[0m\u001b[1;33m[\u001b[0m\u001b[0mself\u001b[0m\u001b[1;33m.\u001b[0m\u001b[0ms\u001b[0m\u001b[1;33m]\u001b[0m\u001b[1;33m[\u001b[0m\u001b[0ma\u001b[0m\u001b[1;33m]\u001b[0m\u001b[1;33m\u001b[0m\u001b[0m\n\u001b[1;32m---> 55\u001b[1;33m         \u001b[0mi\u001b[0m \u001b[1;33m=\u001b[0m \u001b[0mcategorical_sample\u001b[0m\u001b[1;33m(\u001b[0m\u001b[1;33m[\u001b[0m\u001b[0mt\u001b[0m\u001b[1;33m[\u001b[0m\u001b[1;36m0\u001b[0m\u001b[1;33m]\u001b[0m \u001b[1;32mfor\u001b[0m \u001b[0mt\u001b[0m \u001b[1;32min\u001b[0m \u001b[0mtransitions\u001b[0m\u001b[1;33m]\u001b[0m\u001b[1;33m,\u001b[0m \u001b[0mself\u001b[0m\u001b[1;33m.\u001b[0m\u001b[0mnp_random\u001b[0m\u001b[1;33m)\u001b[0m\u001b[1;33m\u001b[0m\u001b[0m\n\u001b[0m\u001b[0;32m     56\u001b[0m         \u001b[0mp\u001b[0m\u001b[1;33m,\u001b[0m \u001b[0ms\u001b[0m\u001b[1;33m,\u001b[0m \u001b[0mr\u001b[0m\u001b[1;33m,\u001b[0m \u001b[0md\u001b[0m\u001b[1;33m=\u001b[0m \u001b[0mtransitions\u001b[0m\u001b[1;33m[\u001b[0m\u001b[0mi\u001b[0m\u001b[1;33m]\u001b[0m\u001b[1;33m\u001b[0m\u001b[0m\n\u001b[0;32m     57\u001b[0m         \u001b[0mself\u001b[0m\u001b[1;33m.\u001b[0m\u001b[0ms\u001b[0m \u001b[1;33m=\u001b[0m \u001b[0ms\u001b[0m\u001b[1;33m\u001b[0m\u001b[0m\n",
      "\u001b[1;32mc:\\environments\\drl_env\\lib\\site-packages\\gym\\envs\\toy_text\\discrete.py\u001b[0m in \u001b[0;36mcategorical_sample\u001b[1;34m(prob_n, np_random)\u001b[0m\n\u001b[0;32m     11\u001b[0m     \u001b[0mprob_n\u001b[0m \u001b[1;33m=\u001b[0m \u001b[0mnp\u001b[0m\u001b[1;33m.\u001b[0m\u001b[0masarray\u001b[0m\u001b[1;33m(\u001b[0m\u001b[0mprob_n\u001b[0m\u001b[1;33m)\u001b[0m\u001b[1;33m\u001b[0m\u001b[0m\n\u001b[0;32m     12\u001b[0m     \u001b[0mcsprob_n\u001b[0m \u001b[1;33m=\u001b[0m \u001b[0mnp\u001b[0m\u001b[1;33m.\u001b[0m\u001b[0mcumsum\u001b[0m\u001b[1;33m(\u001b[0m\u001b[0mprob_n\u001b[0m\u001b[1;33m)\u001b[0m\u001b[1;33m\u001b[0m\u001b[0m\n\u001b[1;32m---> 13\u001b[1;33m     \u001b[1;32mreturn\u001b[0m \u001b[1;33m(\u001b[0m\u001b[0mcsprob_n\u001b[0m \u001b[1;33m>\u001b[0m \u001b[0mnp_random\u001b[0m\u001b[1;33m.\u001b[0m\u001b[0mrand\u001b[0m\u001b[1;33m(\u001b[0m\u001b[1;33m)\u001b[0m\u001b[1;33m)\u001b[0m\u001b[1;33m.\u001b[0m\u001b[0margmax\u001b[0m\u001b[1;33m(\u001b[0m\u001b[1;33m)\u001b[0m\u001b[1;33m\u001b[0m\u001b[0m\n\u001b[0m\u001b[0;32m     14\u001b[0m \u001b[1;33m\u001b[0m\u001b[0m\n\u001b[0;32m     15\u001b[0m \u001b[1;33m\u001b[0m\u001b[0m\n",
      "\u001b[1;31mKeyboardInterrupt\u001b[0m: "
     ]
    }
   ],
   "source": [
    "def SARSATh(threshold = 0.8, gamma = 0.999, alpha = 0.4, epsilon0 = 0.9, epsilonMin = 0.05, decreaseRate = False, softmax = True, tau = 0.01, window = 100):\n",
    "    return routineTh(\"SARSA\", threshold, gamma, alpha, epsilon0, epsilonMin, decreaseRate, softmax, tau, window)\n",
    "\n",
    "\n",
    "w = 100\n",
    "threshold = 0.8\n",
    "q_table, histAcc, episode = SARSATh(threshold, softmax = True, window=w, tau = 0.001)\n",
    "plt.plot(np.arange(len(histAcc)), histAcc)\n",
    "\n",
    "plt.xlabel(\"Number of episodes\")\n",
    "plt.ylabel(\"Accuracy on the {} last episodes\".format(w))\n",
    "plt.title(\"Threshold\".format(threshold))"
   ]
  },
  {
   "cell_type": "markdown",
   "metadata": {},
   "source": [
    "### $Q$-Learning"
   ]
  },
  {
   "cell_type": "code",
   "execution_count": 17,
   "metadata": {},
   "outputs": [
    {
     "data": {
      "text/plain": [
       "Text(0.5, 1.0, 'Q-Learning training on 2000 episodes')"
      ]
     },
     "execution_count": 17,
     "metadata": {},
     "output_type": "execute_result"
    },
    {
     "data": {
      "image/png": "[encoded data removed]",
      "text/plain": [
       "<Figure size 432x288 with 1 Axes>"
      ]
     },
     "metadata": {
      "needs_background": "light"
     },
     "output_type": "display_data"
    }
   ],
   "source": [
    "def QLearning(nEpisode = 2000, gamma = 0.999, alpha = 0.4, epsilon0 = 0.9, epsilonMin = 0.05, decreaseRate = True, softmax = False, tau = 0.003, window = 100):\n",
    "    return routine(\"QLearning\", nEpisode, gamma, alpha, epsilon0, epsilonMin, decreaseRate, softmax, tau, window)\n",
    "\n",
    "w = 100\n",
    "nEpisode = 2000\n",
    "q_table, histAcc = QLearning (nEpisode, softmax = True, window=w)\n",
    "plt.plot(100 * np.arange(len(histAcc)), histAcc)\n",
    "\n",
    "plt.xlabel(\"Number of episodes\")\n",
    "plt.ylabel(\"Accuracy on the {} last episodes\".format(w))\n",
    "plt.title(\"Q-Learning training on {} episodes\".format(nEpisode))"
   ]
  },
  {
   "cell_type": "code",
   "execution_count": 23,
   "metadata": {},
   "outputs": [
    {
     "name": "stdout",
     "output_type": "stream",
     "text": [
      "7174\n"
     ]
    },
    {
     "data": {
      "text/plain": [
       "Text(0.5, 1.0, 'Threshold')"
      ]
     },
     "execution_count": 23,
     "metadata": {},
     "output_type": "execute_result"
    },
    {
     "data": {
      "image/png": "[encoded data removed]",
      "text/plain": [
       "<Figure size 432x288 with 1 Axes>"
      ]
     },
     "metadata": {
      "needs_background": "light"
     },
     "output_type": "display_data"
    }
   ],
   "source": [
    "def QLearningTh(threshold = 0.8, gamma = 0.999, alpha = 0.4, epsilon0 = 0.9, epsilonMin = 0.05, decreaseRate = False, softmax = True, tau = 0.01, window = 100):\n",
    "    return routineTh(\"QLearning\", threshold, gamma, alpha, epsilon0, epsilonMin, decreaseRate, softmax, tau, window)\n",
    "\n",
    "\n",
    "w = 100\n",
    "threshold = 0.7\n",
    "q_table, histAcc, episode = QLearningTh(threshold, softmax = True, window=w, tau = 0.001)\n",
    "print(episode)\n",
    "plt.plot(np.arange(len(histAcc)), histAcc)\n",
    "\n",
    "plt.xlabel(\"Number of episodes\")\n",
    "plt.ylabel(\"Accuracy on the {} last episodes\".format(w))\n",
    "plt.title(\"Threshold\".format(threshold))"
   ]
  },
  {
   "cell_type": "code",
   "execution_count": 26,
   "metadata": {},
   "outputs": [],
   "source": [
    "def testPolicy (q_table, nEpisode = 2000):\n",
    "    success = 0\n",
    "    for _ in range(nEpisode):\n",
    "        t = 0\n",
    "        observation = env.reset()\n",
    "        done  = False\n",
    "        actionTable = np.argmax(q_table, axis = 1)\n",
    "        while not done and t < 200:\n",
    "            action = actionTable[observation]\n",
    "            observation, reward, done, info = env.step(action)\n",
    "            t += 1\n",
    "\n",
    "        if reward == 1:\n",
    "            success += 1\n",
    "    return success / nEpisode"
   ]
  },
  {
   "cell_type": "code",
   "execution_count": 31,
   "metadata": {},
   "outputs": [
    {
     "data": {
      "text/plain": [
       "0.5975"
      ]
     },
     "execution_count": 31,
     "metadata": {},
     "output_type": "execute_result"
    }
   ],
   "source": [
    "testPolicy(q_table, nEpisode = 2000)"
   ]
  },
  {
   "cell_type": "markdown",
   "metadata": {},
   "source": [
    "## Compare methods"
   ]
  },
  {
   "cell_type": "code",
   "execution_count": 24,
   "metadata": {},
   "outputs": [],
   "source": [
    "recap = pd.DataFrame (columns = [\"Accuracy - SARSA\", \"Accuracy - QLearning\"])\n",
    "\n",
    "N = 5000"
   ]
  },
  {
   "cell_type": "markdown",
   "metadata": {},
   "source": [
    "### $\\epsilon$-greedy with fixed $\\epsilon$"
   ]
  },
  {
   "cell_type": "code",
   "execution_count": 25,
   "metadata": {},
   "outputs": [],
   "source": [
    "n = 5\n",
    "Eps = 0.1 * np.arange(1, 10)\n",
    "\n",
    "for eps in Eps:\n",
    "    sarsa = 0\n",
    "    ql = 0\n",
    "    for _ in range(n):\n",
    "        q_table, histAcc = QLearning (N, epsilon0 = eps, decreaseRate=1)\n",
    "        ql += testPolicy(q_table)\n",
    "        q_table, histAcc = SARSA (N, epsilon0 = eps, decreaseRate=1)\n",
    "        sarsa += testPolicy(q_table)\n",
    "    sarsa /= n\n",
    "    ql /= n\n",
    "    recap.loc[\"Fixed $\\epsilon$ : $\\epsilon$ = {}\".format(round(eps,2))] = [sarsa, ql]"
   ]
  },
  {
   "cell_type": "markdown",
   "metadata": {},
   "source": [
    "### $\\epsilon$-greedy with decaying $\\epsilon$"
   ]
  },
  {
   "cell_type": "code",
   "execution_count": 26,
   "metadata": {},
   "outputs": [],
   "source": [
    "n = 5\n",
    "DR = [0.9, 0.99, 0.999]\n",
    "eps = 0.9\n",
    "\n",
    "for dr in DR:\n",
    "    sarsa = 0\n",
    "    ql = 0\n",
    "    for _ in range(n):\n",
    "        q_table, histAcc = QLearning (N, epsilon0 = eps, decreaseRate=dr)\n",
    "        ql += testPolicy(q_table)\n",
    "        q_table, histAcc = SARSA (N, epsilon0 = eps, decreaseRate=dr)\n",
    "        sarsa += testPolicy(q_table)\n",
    "    sarsa /= n\n",
    "    ql /= n\n",
    "    recap.loc[\"Decaying-$\\epsilon$ : decaying rate = {}\".format(dr)] = [sarsa, ql]\n"
   ]
  },
  {
   "cell_type": "markdown",
   "metadata": {},
   "source": [
    "### Softmax"
   ]
  },
  {
   "cell_type": "code",
   "execution_count": 22,
   "metadata": {},
   "outputs": [
    {
     "data": {
      "text/html": [
       "<div>\n",
       "<style scoped>\n",
       "    .dataframe tbody tr th:only-of-type {\n",
       "        vertical-align: middle;\n",
       "    }\n",
       "\n",
       "    .dataframe tbody tr th {\n",
       "        vertical-align: top;\n",
       "    }\n",
       "\n",
       "    .dataframe thead th {\n",
       "        text-align: right;\n",
       "    }\n",
       "</style>\n",
       "<table border=\"1\" class=\"dataframe\">\n",
       "  <thead>\n",
       "    <tr style=\"text-align: right;\">\n",
       "      <th></th>\n",
       "      <th>Accuracy - SARSA</th>\n",
       "      <th>Accuracy - QLearning</th>\n",
       "    </tr>\n",
       "  </thead>\n",
       "  <tbody>\n",
       "    <tr>\n",
       "      <th>Fixed $\\epsilon$ : $\\epsilon$ = 0.1</th>\n",
       "      <td>0.6433</td>\n",
       "      <td>0.5647</td>\n",
       "    </tr>\n",
       "    <tr>\n",
       "      <th>Fixed $\\epsilon$ : $\\epsilon$ = 0.2</th>\n",
       "      <td>0.7481</td>\n",
       "      <td>0.6517</td>\n",
       "    </tr>\n",
       "    <tr>\n",
       "      <th>Fixed $\\epsilon$ : $\\epsilon$ = 0.3</th>\n",
       "      <td>0.6477</td>\n",
       "      <td>0.3307</td>\n",
       "    </tr>\n",
       "    <tr>\n",
       "      <th>Fixed $\\epsilon$ : $\\epsilon$ = 0.4</th>\n",
       "      <td>0.6386</td>\n",
       "      <td>0.5152</td>\n",
       "    </tr>\n",
       "    <tr>\n",
       "      <th>Fixed $\\epsilon$ : $\\epsilon$ = 0.5</th>\n",
       "      <td>0.6995</td>\n",
       "      <td>0.3537</td>\n",
       "    </tr>\n",
       "    <tr>\n",
       "      <th>Fixed $\\epsilon$ : $\\epsilon$ = 0.6</th>\n",
       "      <td>0.7355</td>\n",
       "      <td>0.5556</td>\n",
       "    </tr>\n",
       "    <tr>\n",
       "      <th>Fixed $\\epsilon$ : $\\epsilon$ = 0.7</th>\n",
       "      <td>0.7075</td>\n",
       "      <td>0.4808</td>\n",
       "    </tr>\n",
       "    <tr>\n",
       "      <th>Fixed $\\epsilon$ : $\\epsilon$ = 0.8</th>\n",
       "      <td>0.6889</td>\n",
       "      <td>0.5127</td>\n",
       "    </tr>\n",
       "    <tr>\n",
       "      <th>Fixed $\\epsilon$ : $\\epsilon$ = 0.9</th>\n",
       "      <td>0.7062</td>\n",
       "      <td>0.4885</td>\n",
       "    </tr>\n",
       "    <tr>\n",
       "      <th>Decaying-$\\epsilon$ : decaying rate = 0.9</th>\n",
       "      <td>0.7413</td>\n",
       "      <td>0.4818</td>\n",
       "    </tr>\n",
       "    <tr>\n",
       "      <th>Decaying-$\\epsilon$ : decaying rate = 0.99</th>\n",
       "      <td>0.7360</td>\n",
       "      <td>0.4473</td>\n",
       "    </tr>\n",
       "    <tr>\n",
       "      <th>Decaying-$\\epsilon$ : decaying rate = 0.999</th>\n",
       "      <td>0.7321</td>\n",
       "      <td>0.5022</td>\n",
       "    </tr>\n",
       "    <tr>\n",
       "      <th>Softmax : $\\tau$ = 1</th>\n",
       "      <td>0.0551</td>\n",
       "      <td>0.3894</td>\n",
       "    </tr>\n",
       "    <tr>\n",
       "      <th>Softmax : $\\tau$ = 0.1</th>\n",
       "      <td>0.2640</td>\n",
       "      <td>0.6833</td>\n",
       "    </tr>\n",
       "    <tr>\n",
       "      <th>Softmax : $\\tau$ = 0.01</th>\n",
       "      <td>0.7001</td>\n",
       "      <td>0.7209</td>\n",
       "    </tr>\n",
       "    <tr>\n",
       "      <th>Softmax : $\\tau$ = 0.001</th>\n",
       "      <td>0.7368</td>\n",
       "      <td>0.6999</td>\n",
       "    </tr>\n",
       "  </tbody>\n",
       "</table>\n",
       "</div>"
      ],
      "text/plain": [
       "                                             Accuracy - SARSA  \\\n",
       "Fixed $\\epsilon$ : $\\epsilon$ = 0.1                    0.6433   \n",
       "Fixed $\\epsilon$ : $\\epsilon$ = 0.2                    0.7481   \n",
       "Fixed $\\epsilon$ : $\\epsilon$ = 0.3                    0.6477   \n",
       "Fixed $\\epsilon$ : $\\epsilon$ = 0.4                    0.6386   \n",
       "Fixed $\\epsilon$ : $\\epsilon$ = 0.5                    0.6995   \n",
       "Fixed $\\epsilon$ : $\\epsilon$ = 0.6                    0.7355   \n",
       "Fixed $\\epsilon$ : $\\epsilon$ = 0.7                    0.7075   \n",
       "Fixed $\\epsilon$ : $\\epsilon$ = 0.8                    0.6889   \n",
       "Fixed $\\epsilon$ : $\\epsilon$ = 0.9                    0.7062   \n",
       "Decaying-$\\epsilon$ : decaying rate = 0.9              0.7413   \n",
       "Decaying-$\\epsilon$ : decaying rate = 0.99             0.7360   \n",
       "Decaying-$\\epsilon$ : decaying rate = 0.999            0.7321   \n",
       "Softmax : $\\tau$ = 1                                   0.0551   \n",
       "Softmax : $\\tau$ = 0.1                                 0.2640   \n",
       "Softmax : $\\tau$ = 0.01                                0.7001   \n",
       "Softmax : $\\tau$ = 0.001                               0.7368   \n",
       "\n",
       "                                             Accuracy - QLearning  \n",
       "Fixed $\\epsilon$ : $\\epsilon$ = 0.1                        0.5647  \n",
       "Fixed $\\epsilon$ : $\\epsilon$ = 0.2                        0.6517  \n",
       "Fixed $\\epsilon$ : $\\epsilon$ = 0.3                        0.3307  \n",
       "Fixed $\\epsilon$ : $\\epsilon$ = 0.4                        0.5152  \n",
       "Fixed $\\epsilon$ : $\\epsilon$ = 0.5                        0.3537  \n",
       "Fixed $\\epsilon$ : $\\epsilon$ = 0.6                        0.5556  \n",
       "Fixed $\\epsilon$ : $\\epsilon$ = 0.7                        0.4808  \n",
       "Fixed $\\epsilon$ : $\\epsilon$ = 0.8                        0.5127  \n",
       "Fixed $\\epsilon$ : $\\epsilon$ = 0.9                        0.4885  \n",
       "Decaying-$\\epsilon$ : decaying rate = 0.9                  0.4818  \n",
       "Decaying-$\\epsilon$ : decaying rate = 0.99                 0.4473  \n",
       "Decaying-$\\epsilon$ : decaying rate = 0.999                0.5022  \n",
       "Softmax : $\\tau$ = 1                                       0.3894  \n",
       "Softmax : $\\tau$ = 0.1                                     0.6833  \n",
       "Softmax : $\\tau$ = 0.01                                    0.7209  \n",
       "Softmax : $\\tau$ = 0.001                                   0.6999  "
      ]
     },
     "execution_count": 22,
     "metadata": {},
     "output_type": "execute_result"
    }
   ],
   "source": [
    "n = 5\n",
    "\n",
    "for t in [1, 0.1, 0.01, 0.001]:\n",
    "    sarsa = 0\n",
    "    ql = 0\n",
    "    for _ in range(n):\n",
    "        q_table, histAcc = QLearning(N, softmax = True, tau = t)\n",
    "        ql += testPolicy(q_table)\n",
    "        q_table, histAcc = SARSA(N, softmax = True, tau = t)\n",
    "        sarsa += testPolicy(q_table)\n",
    "    sarsa /= n\n",
    "    ql /= n\n",
    "    recap.loc[\"Softmax : $\\tau$ = {}\".format(t)] = [sarsa, ql]"
   ]
  },
  {
   "cell_type": "code",
   "execution_count": null,
   "metadata": {},
   "outputs": [],
   "source": [
    "recap"
   ]
  },
  {
   "cell_type": "code",
   "execution_count": 23,
   "metadata": {},
   "outputs": [
    {
     "data": {
      "text/plain": [
       "[<matplotlib.lines.Line2D at 0x1ecfd7379e8>,\n",
       " <matplotlib.lines.Line2D at 0x1ecfd737ac8>]"
      ]
     },
     "execution_count": 23,
     "metadata": {},
     "output_type": "execute_result"
    },
    {
     "data": {
      "image/png": "[encoded data removed]",
      "text/plain": [
       "<Figure size 432x288 with 1 Axes>"
      ]
     },
     "metadata": {
      "needs_background": "light"
     },
     "output_type": "display_data"
    }
   ],
   "source": [
    "plt.plot(recap)"
   ]
  }
 ],
 "metadata": {
  "kernelspec": {
   "display_name": "DRL",
   "language": "python",
   "name": "drl"
  },
  "language_info": {
   "codemirror_mode": {
    "name": "ipython",
    "version": 3
   },
   "file_extension": ".py",
   "mimetype": "text/x-python",
   "name": "python",
   "nbconvert_exporter": "python",
   "pygments_lexer": "ipython3",
   "version": "3.6.1"
  }
 },
 "nbformat": 4,
 "nbformat_minor": 2
}
