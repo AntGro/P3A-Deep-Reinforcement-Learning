{
 "cells": [
  {
   "cell_type": "markdown",
   "metadata": {},
   "source": [
    "# Reinforcement Learning - Toy examples with Gym\n",
    "\n",
    "## FrozenLake\n",
    "\n",
    "In this Notebook, we will implement $SARSA$ and $Q-Learning$ methods to solve the FrozenLake8x8 environment (https://gym.openai.com/envs/FrozenLake-v0/), using and comparing different policies for exploration. Note that it is a stochastic envivonment since, as mentioned in the documentation, \"the ice is slippery, so you won't always move in the direction you intend\".\n",
    "\n",
    "Both algorithms update a tabular estimate of the $Q-function$ using a following update rule:\n",
    "* $SARSA$ algorithm is an on-policy method using:\n",
    "$$Q_{t+1}(s_t,a_t) \\leftarrow Q_t(s_t,a_t) + \\alpha (r_t + \\gamma Q_t(s_{t+1}, a_{t+1}) - Q_t(s_t,a_t))$$\n",
    "\n",
    "* $Q-Learning$ algorithm is an off-policy method using:\n",
    "$$Q_{t+1}(s_t,a_t) \\leftarrow Q_t(s_t,a_t) + \\alpha (r_t + \\gamma \\max_b Q_t(s_{t+1}, b) - Q_t(s_t,a_t))$$\n",
    "\n",
    "For exploration, we will compare performances between:\n",
    "* $\\epsilon$-greedy policy with a fixed $\\epsilon$.\n",
    "* $\\epsilon$-greedy policy with a decaying $\\epsilon$.\n",
    "* softmax exploration assigning a probability for an action to be\n",
    "performed according to the following rule:\n",
    "$$P(a_i \\vert s) = \\frac{e^{\\frac{1}{\\tau}Q(s,a_j)}}{\\sum_j e^{\\frac{1}{\\tau}Q(s,a_j)}}$$"
   ]
  },
  {
   "cell_type": "code",
   "execution_count": 16,
   "metadata": {},
   "outputs": [],
   "source": [
    "import sys\n",
    "sys.path.append(\"../\") # go to parent dir\n",
    "import matplotlib.pyplot as plt\n",
    "%matplotlib inline\n",
    "from tqdm import tqdm\n",
    "import pandas as pd\n",
    "from auxModules.TD import *"
   ]
  },
  {
   "cell_type": "code",
   "execution_count": 5,
   "metadata": {},
   "outputs": [
    {
     "name": "stdout",
     "output_type": "stream",
     "text": [
      "Wall time: 4 ms\n"
     ]
    }
   ],
   "source": [
    "env = gym.make(\"FrozenLake-v0\")"
   ]
  },
  {
   "cell_type": "markdown",
   "metadata": {},
   "source": [
    "### SARSA"
   ]
  },
  {
   "cell_type": "code",
   "execution_count": 8,
   "metadata": {},
   "outputs": [
    {
     "name": "stdout",
     "output_type": "stream",
     "text": [
      "Wall time: 10 s\n"
     ]
    },
    {
     "data": {
      "image/png": "[encoded data removed]",
      "text/plain": [
       "<Figure size 432x288 with 1 Axes>"
      ]
     },
     "metadata": {
      "needs_background": "light"
     },
     "output_type": "display_data"
    }
   ],
   "source": [
    "%%time\n",
    "w = 100\n",
    "threshold = 0.76\n",
    "q_table, histAcc, episode = SARSATh(threshold, softmax = True, window=w, tau = 0.001)\n",
    "plt.plot(np.arange(len(histAcc)), histAcc)\n",
    "\n",
    "plt.xlabel(\"Number of episodes\")\n",
    "plt.ylabel(\"Accuracy on the {} last episodes\".format(w))\n",
    "plt.title(\"SARSA with threshold {}\".format(threshold))"
   ]
  },
  {
   "cell_type": "markdown",
   "metadata": {},
   "source": [
    "### $Q$-Learning"
   ]
  },
  {
   "cell_type": "code",
   "execution_count": null,
   "metadata": {},
   "outputs": [],
   "source": [
    "%%time\n",
    "w = 100\n",
    "threshold = 0.7\n",
    "q_table, histAcc, episode = QLearningTh(threshold, softmax = True, window=w, tau = 0.001)\n",
    "print(episode)\n",
    "plt.plot(np.arange(len(histAcc)), histAcc)\n",
    "\n",
    "plt.xlabel(\"Number of episodes\")\n",
    "plt.ylabel(\"Accuracy on the {} last episodes\".format(w))\n",
    "plt.title(\"Q-learning  with threshold {}\".format(threshold))"
   ]
  },
  {
   "cell_type": "code",
   "execution_count": 11,
   "metadata": {},
   "outputs": [
    {
     "name": "stdout",
     "output_type": "stream",
     "text": [
      "Wall time: 2.83 s\n"
     ]
    },
    {
     "data": {
      "text/plain": [
       "0.334"
      ]
     },
     "execution_count": 11,
     "metadata": {},
     "output_type": "execute_result"
    }
   ],
   "source": [
    "%%time\n",
    "testPolicy(q_table, nEpisode = 1000)"
   ]
  },
  {
   "cell_type": "markdown",
   "metadata": {},
   "source": [
    "## Compare methods"
   ]
  },
  {
   "cell_type": "code",
   "execution_count": 14,
   "metadata": {},
   "outputs": [],
   "source": [
    "recap = pd.DataFrame (columns = [\"Accuracy - SARSA\", \"Nb episodes - SARSA\", \"Accuracy - QLearning\", \"Nb episodes - SARSA\"])\n",
    "\n",
    "nEpisodeAccuracy = 1000\n",
    "threshold = 0.76"
   ]
  },
  {
   "cell_type": "markdown",
   "metadata": {},
   "source": [
    "### $\\epsilon$-greedy with fixed $\\epsilon$"
   ]
  },
  {
   "cell_type": "code",
   "execution_count": 17,
   "metadata": {},
   "outputs": [
    {
     "name": "stderr",
     "output_type": "stream",
     "text": [
      " 40%|██████████████████████████████████████████████████████████                                                                                       | 2/5 [27:05<39:24, 788.29s/it]"
     ]
    },
    {
     "ename": "KeyboardInterrupt",
     "evalue": "",
     "traceback": [
      "\u001b[1;31m---------------------------------------------------------------------------\u001b[0m",
      "\u001b[1;31mKeyboardInterrupt\u001b[0m                         Traceback (most recent call last)",
      "\u001b[1;32m<ipython-input-17-6afffc0ce291>\u001b[0m in \u001b[0;36m<module>\u001b[1;34m\u001b[0m\n\u001b[0;32m      8\u001b[0m     \u001b[0mqEpisode\u001b[0m \u001b[1;33m=\u001b[0m \u001b[1;36m0\u001b[0m\u001b[1;33m\u001b[0m\u001b[0m\n\u001b[0;32m      9\u001b[0m     \u001b[1;32mfor\u001b[0m \u001b[0m_\u001b[0m \u001b[1;32min\u001b[0m \u001b[0mrange\u001b[0m\u001b[1;33m(\u001b[0m\u001b[0mn\u001b[0m\u001b[1;33m)\u001b[0m\u001b[1;33m:\u001b[0m\u001b[1;33m\u001b[0m\u001b[0m\n\u001b[1;32m---> 10\u001b[1;33m         \u001b[0mq_table\u001b[0m\u001b[1;33m,\u001b[0m \u001b[0mhistAcc\u001b[0m\u001b[1;33m,\u001b[0m \u001b[0mqEp\u001b[0m \u001b[1;33m=\u001b[0m \u001b[0mQLearningTh\u001b[0m\u001b[1;33m(\u001b[0m\u001b[0mthreshold\u001b[0m\u001b[1;33m,\u001b[0m \u001b[0mepsilon0\u001b[0m \u001b[1;33m=\u001b[0m \u001b[0meps\u001b[0m\u001b[1;33m,\u001b[0m \u001b[0mdecreaseRate\u001b[0m\u001b[1;33m=\u001b[0m\u001b[1;36m1\u001b[0m\u001b[1;33m)\u001b[0m\u001b[1;33m\u001b[0m\u001b[0m\n\u001b[0m\u001b[0;32m     11\u001b[0m         \u001b[0mql\u001b[0m \u001b[1;33m+=\u001b[0m \u001b[0mtestPolicy\u001b[0m\u001b[1;33m(\u001b[0m\u001b[0mq_table\u001b[0m\u001b[1;33m,\u001b[0m \u001b[0mnEpisodeAccuracy\u001b[0m\u001b[1;33m)\u001b[0m\u001b[1;33m\u001b[0m\u001b[0m\n\u001b[0;32m     12\u001b[0m         \u001b[0mqEpisode\u001b[0m \u001b[1;33m+=\u001b[0m \u001b[0mqEp\u001b[0m\u001b[1;33m\u001b[0m\u001b[0m\n",
      "\u001b[1;32m~\\Desktop\\Polytechnique\\Travail\\3A\\MAP 513\\P3A-Deep-Reinforcement-Learning\\auxModules\\TD.py\u001b[0m in \u001b[0;36mQLearningTh\u001b[1;34m(threshold, gamma, alpha, epsilon0, epsilonMin, decreaseRate, softmax, tau, window)\u001b[0m\n\u001b[0;32m    134\u001b[0m \u001b[1;33m\u001b[0m\u001b[0m\n\u001b[0;32m    135\u001b[0m \u001b[1;32mdef\u001b[0m \u001b[0mQLearningTh\u001b[0m\u001b[1;33m(\u001b[0m\u001b[0mthreshold\u001b[0m \u001b[1;33m=\u001b[0m \u001b[1;36m0.8\u001b[0m\u001b[1;33m,\u001b[0m \u001b[0mgamma\u001b[0m \u001b[1;33m=\u001b[0m \u001b[1;36m0.999\u001b[0m\u001b[1;33m,\u001b[0m \u001b[0malpha\u001b[0m \u001b[1;33m=\u001b[0m \u001b[1;36m0.4\u001b[0m\u001b[1;33m,\u001b[0m \u001b[0mepsilon0\u001b[0m \u001b[1;33m=\u001b[0m \u001b[1;36m0.9\u001b[0m\u001b[1;33m,\u001b[0m \u001b[0mepsilonMin\u001b[0m \u001b[1;33m=\u001b[0m \u001b[1;36m0.05\u001b[0m\u001b[1;33m,\u001b[0m \u001b[0mdecreaseRate\u001b[0m \u001b[1;33m=\u001b[0m \u001b[1;32mFalse\u001b[0m\u001b[1;33m,\u001b[0m \u001b[0msoftmax\u001b[0m \u001b[1;33m=\u001b[0m \u001b[1;32mTrue\u001b[0m\u001b[1;33m,\u001b[0m \u001b[0mtau\u001b[0m \u001b[1;33m=\u001b[0m \u001b[1;36m0.01\u001b[0m\u001b[1;33m,\u001b[0m \u001b[0mwindow\u001b[0m \u001b[1;33m=\u001b[0m \u001b[1;36m100\u001b[0m\u001b[1;33m)\u001b[0m\u001b[1;33m:\u001b[0m\u001b[1;33m\u001b[0m\u001b[0m\n\u001b[1;32m--> 136\u001b[1;33m     \u001b[1;32mreturn\u001b[0m \u001b[0mroutineTh\u001b[0m\u001b[1;33m(\u001b[0m\u001b[1;34m\"QLearning\"\u001b[0m\u001b[1;33m,\u001b[0m \u001b[0mthreshold\u001b[0m\u001b[1;33m,\u001b[0m \u001b[0mgamma\u001b[0m\u001b[1;33m,\u001b[0m \u001b[0malpha\u001b[0m\u001b[1;33m,\u001b[0m \u001b[0mepsilon0\u001b[0m\u001b[1;33m,\u001b[0m \u001b[0mepsilonMin\u001b[0m\u001b[1;33m,\u001b[0m \u001b[0mdecreaseRate\u001b[0m\u001b[1;33m,\u001b[0m \u001b[0msoftmax\u001b[0m\u001b[1;33m,\u001b[0m \u001b[0mtau\u001b[0m\u001b[1;33m,\u001b[0m \u001b[0mwindow\u001b[0m\u001b[1;33m)\u001b[0m\u001b[1;33m\u001b[0m\u001b[0m\n\u001b[0m\u001b[0;32m    137\u001b[0m \u001b[1;33m\u001b[0m\u001b[0m\n\u001b[0;32m    138\u001b[0m \u001b[1;32mdef\u001b[0m \u001b[0mtestPolicy\u001b[0m \u001b[1;33m(\u001b[0m\u001b[0mq_table\u001b[0m\u001b[1;33m,\u001b[0m \u001b[0mnEpisode\u001b[0m \u001b[1;33m=\u001b[0m \u001b[1;36m2000\u001b[0m\u001b[1;33m)\u001b[0m\u001b[1;33m:\u001b[0m\u001b[1;33m\u001b[0m\u001b[0m\n",
      "\u001b[1;32m~\\Desktop\\Polytechnique\\Travail\\3A\\MAP 513\\P3A-Deep-Reinforcement-Learning\\auxModules\\TD.py\u001b[0m in \u001b[0;36mroutineTh\u001b[1;34m(algo, threshold, gamma, alpha, epsilon0, epsilonMin, decreaseRate, softmax, tau, window)\u001b[0m\n\u001b[0;32m    101\u001b[0m         \u001b[1;32mfor\u001b[0m \u001b[0mH\u001b[0m \u001b[1;32min\u001b[0m \u001b[0mrange\u001b[0m\u001b[1;33m(\u001b[0m\u001b[1;36m200\u001b[0m\u001b[1;33m)\u001b[0m\u001b[1;33m:\u001b[0m\u001b[1;33m\u001b[0m\u001b[0m\n\u001b[0;32m    102\u001b[0m             \u001b[0mobservation1\u001b[0m\u001b[1;33m,\u001b[0m \u001b[0mreward\u001b[0m\u001b[1;33m,\u001b[0m \u001b[0mdone\u001b[0m\u001b[1;33m,\u001b[0m \u001b[0minfo\u001b[0m \u001b[1;33m=\u001b[0m \u001b[0menv\u001b[0m\u001b[1;33m.\u001b[0m\u001b[0mstep\u001b[0m\u001b[1;33m(\u001b[0m\u001b[0maction0\u001b[0m\u001b[1;33m)\u001b[0m\u001b[1;33m\u001b[0m\u001b[0m\n\u001b[1;32m--> 103\u001b[1;33m             \u001b[0maction1\u001b[0m \u001b[1;33m=\u001b[0m \u001b[0mchooseAction\u001b[0m\u001b[1;33m(\u001b[0m\u001b[0mq_table\u001b[0m\u001b[1;33m,\u001b[0m \u001b[0mobservation1\u001b[0m\u001b[1;33m,\u001b[0m \u001b[0mepsilon\u001b[0m\u001b[1;33m,\u001b[0m \u001b[0msoftmax\u001b[0m\u001b[1;33m,\u001b[0m \u001b[0mtau\u001b[0m\u001b[1;33m)\u001b[0m\u001b[1;33m\u001b[0m\u001b[0m\n\u001b[0m\u001b[0;32m    104\u001b[0m             \u001b[0merr\u001b[0m \u001b[1;33m=\u001b[0m \u001b[0mreward\u001b[0m \u001b[1;33m-\u001b[0m \u001b[0mq_table\u001b[0m\u001b[1;33m[\u001b[0m\u001b[0mobservation0\u001b[0m\u001b[1;33m,\u001b[0m \u001b[0maction0\u001b[0m\u001b[1;33m]\u001b[0m\u001b[1;33m\u001b[0m\u001b[0m\n\u001b[0;32m    105\u001b[0m \u001b[1;33m\u001b[0m\u001b[0m\n",
      "\u001b[1;32m~\\Desktop\\Polytechnique\\Travail\\3A\\MAP 513\\P3A-Deep-Reinforcement-Learning\\auxModules\\TD.py\u001b[0m in \u001b[0;36mchooseAction\u001b[1;34m(q_table, state, epsilon, softmax, tau)\u001b[0m\n\u001b[0;32m     20\u001b[0m         \u001b[0maux\u001b[0m \u001b[1;33m=\u001b[0m \u001b[0mnp\u001b[0m\u001b[1;33m.\u001b[0m\u001b[0mexp\u001b[0m\u001b[1;33m(\u001b[0m\u001b[1;33m(\u001b[0m\u001b[0mq_table\u001b[0m\u001b[1;33m[\u001b[0m\u001b[0mstate\u001b[0m\u001b[1;33m]\u001b[0m \u001b[1;33m-\u001b[0m \u001b[0mm\u001b[0m\u001b[1;33m)\u001b[0m \u001b[1;33m/\u001b[0m \u001b[0mtau\u001b[0m\u001b[1;33m)\u001b[0m\u001b[1;33m\u001b[0m\u001b[0m\n\u001b[0;32m     21\u001b[0m         \u001b[0md\u001b[0m \u001b[1;33m=\u001b[0m \u001b[0mnp\u001b[0m\u001b[1;33m.\u001b[0m\u001b[0msum\u001b[0m\u001b[1;33m(\u001b[0m\u001b[0maux\u001b[0m\u001b[1;33m)\u001b[0m\u001b[1;33m\u001b[0m\u001b[0m\n\u001b[1;32m---> 22\u001b[1;33m         \u001b[1;32mreturn\u001b[0m \u001b[0mnp\u001b[0m\u001b[1;33m.\u001b[0m\u001b[0mrandom\u001b[0m\u001b[1;33m.\u001b[0m\u001b[0mchoice\u001b[0m\u001b[1;33m(\u001b[0m\u001b[0mnp\u001b[0m\u001b[1;33m.\u001b[0m\u001b[0marange\u001b[0m\u001b[1;33m(\u001b[0m\u001b[0menv\u001b[0m\u001b[1;33m.\u001b[0m\u001b[0maction_space\u001b[0m\u001b[1;33m.\u001b[0m\u001b[0mn\u001b[0m\u001b[1;33m)\u001b[0m\u001b[1;33m,\u001b[0m \u001b[0mp\u001b[0m\u001b[1;33m=\u001b[0m\u001b[0maux\u001b[0m \u001b[1;33m/\u001b[0m \u001b[0md\u001b[0m\u001b[1;33m)\u001b[0m\u001b[1;33m\u001b[0m\u001b[0m\n\u001b[0m\u001b[0;32m     23\u001b[0m     \u001b[1;32mif\u001b[0m \u001b[0mnp\u001b[0m\u001b[1;33m.\u001b[0m\u001b[0mrandom\u001b[0m\u001b[1;33m.\u001b[0m\u001b[0mrandom\u001b[0m\u001b[1;33m(\u001b[0m\u001b[1;33m)\u001b[0m \u001b[1;33m>\u001b[0m \u001b[0mepsilon\u001b[0m\u001b[1;33m:\u001b[0m\u001b[1;33m\u001b[0m\u001b[0m\n\u001b[0;32m     24\u001b[0m         \u001b[1;32mreturn\u001b[0m \u001b[0mnp\u001b[0m\u001b[1;33m.\u001b[0m\u001b[0margmax\u001b[0m\u001b[1;33m(\u001b[0m\u001b[0mq_table\u001b[0m\u001b[1;33m[\u001b[0m\u001b[0mstate\u001b[0m\u001b[1;33m]\u001b[0m\u001b[1;33m)\u001b[0m\u001b[1;33m\u001b[0m\u001b[0m\n",
      "\u001b[1;31mKeyboardInterrupt\u001b[0m: "
     ],
     "output_type": "error"
    }
   ],
   "source": [
    "n = 5\n",
    "Eps = 0.1 * np.arange(1, 10, 2)\n",
    "\n",
    "for eps in tqdm(Eps):\n",
    "    sarsa = 0\n",
    "    sarsaEpisode = 0\n",
    "    ql = 0\n",
    "    qEpisode = 0\n",
    "    for _ in range(n):\n",
    "        q_table, histAcc, qEp = QLearningTh(threshold, epsilon0 = eps, decreaseRate=1)\n",
    "        ql += testPolicy(q_table, nEpisodeAccuracy)\n",
    "        qEpisode += qEp\n",
    "        q_table, histAcc, sarsaEp  = SARSATh(threshold, epsilon0 = eps, decreaseRate=1)\n",
    "        sarsa += testPolicy(q_table, nEpisodeAccuracy)\n",
    "        sarsaEpisode += sarsaEp\n",
    "    sarsa /= n\n",
    "    sarsaEpisode /= n\n",
    "    qEpisode /= n\n",
    "    ql /= n\n",
    "    recap.loc[\"Fixed $\\epsilon$ : $\\epsilon$ = {}\".format(round(eps,2))] = [sarsa, sarsaEpisode, ql, sarsaEpisode]"
   ]
  },
  {
   "cell_type": "markdown",
   "metadata": {},
   "source": [
    "### $\\epsilon$-greedy with decaying $\\epsilon$"
   ]
  },
  {
   "cell_type": "code",
   "execution_count": 26,
   "metadata": {},
   "outputs": [],
   "source": [
    "n = 5\n",
    "DR = [0.9, 0.99, 0.999]\n",
    "eps = 0.9\n",
    "\n",
    "for dr in tqdm(DR):\n",
    "    sarsa = 0\n",
    "    sarsaEpisode = 0\n",
    "    ql = 0\n",
    "    qEpisode = 0\n",
    "    for _ in range(n):\n",
    "        q_table, histAcc, qEp = QLearningTh(threshold, epsilon0 = eps, decreaseRate=dr)\n",
    "        ql += testPolicy(q_table, nEpisodeAccuracy)\n",
    "        qEpisode += qEp\n",
    "        q_table, histAcc, sarsaEp  = SARSATh(threshold, epsilon0 = eps, decreaseRate=dr)\n",
    "        sarsa += testPolicy(q_table, nEpisodeAccuracy)\n",
    "        sarsaEpisode += sarsaEp\n",
    "    sarsa /= n\n",
    "    sarsaEpisode /= n\n",
    "    qEpisode /= n\n",
    "    ql /= n\n",
    "    recap.loc[\"Decaying-$\\epsilon$ : decaying rate = {}\".format(dr)] = [sarsa, sarsaEpisode, ql, sarsaEpisode]"
   ]
  },
  {
   "cell_type": "markdown",
   "metadata": {},
   "source": [
    "### Softmax"
   ]
  },
  {
   "cell_type": "code",
   "execution_count": 22,
   "metadata": {},
   "outputs": [
    {
     "data": {
      "text/html": [
       "<div>\n",
       "<style scoped>\n",
       "    .dataframe tbody tr th:only-of-type {\n",
       "        vertical-align: middle;\n",
       "    }\n",
       "\n",
       "    .dataframe tbody tr th {\n",
       "        vertical-align: top;\n",
       "    }\n",
       "\n",
       "    .dataframe thead th {\n",
       "        text-align: right;\n",
       "    }\n",
       "</style>\n",
       "<table border=\"1\" class=\"dataframe\">\n",
       "  <thead>\n",
       "    <tr style=\"text-align: right;\">\n",
       "      <th></th>\n",
       "      <th>Accuracy - SARSA</th>\n",
       "      <th>Accuracy - QLearning</th>\n",
       "    </tr>\n",
       "  </thead>\n",
       "  <tbody>\n",
       "    <tr>\n",
       "      <th>Fixed $\\epsilon$ : $\\epsilon$ = 0.1</th>\n",
       "      <td>0.6433</td>\n",
       "      <td>0.5647</td>\n",
       "    </tr>\n",
       "    <tr>\n",
       "      <th>Fixed $\\epsilon$ : $\\epsilon$ = 0.2</th>\n",
       "      <td>0.7481</td>\n",
       "      <td>0.6517</td>\n",
       "    </tr>\n",
       "    <tr>\n",
       "      <th>Fixed $\\epsilon$ : $\\epsilon$ = 0.3</th>\n",
       "      <td>0.6477</td>\n",
       "      <td>0.3307</td>\n",
       "    </tr>\n",
       "    <tr>\n",
       "      <th>Fixed $\\epsilon$ : $\\epsilon$ = 0.4</th>\n",
       "      <td>0.6386</td>\n",
       "      <td>0.5152</td>\n",
       "    </tr>\n",
       "    <tr>\n",
       "      <th>Fixed $\\epsilon$ : $\\epsilon$ = 0.5</th>\n",
       "      <td>0.6995</td>\n",
       "      <td>0.3537</td>\n",
       "    </tr>\n",
       "    <tr>\n",
       "      <th>Fixed $\\epsilon$ : $\\epsilon$ = 0.6</th>\n",
       "      <td>0.7355</td>\n",
       "      <td>0.5556</td>\n",
       "    </tr>\n",
       "    <tr>\n",
       "      <th>Fixed $\\epsilon$ : $\\epsilon$ = 0.7</th>\n",
       "      <td>0.7075</td>\n",
       "      <td>0.4808</td>\n",
       "    </tr>\n",
       "    <tr>\n",
       "      <th>Fixed $\\epsilon$ : $\\epsilon$ = 0.8</th>\n",
       "      <td>0.6889</td>\n",
       "      <td>0.5127</td>\n",
       "    </tr>\n",
       "    <tr>\n",
       "      <th>Fixed $\\epsilon$ : $\\epsilon$ = 0.9</th>\n",
       "      <td>0.7062</td>\n",
       "      <td>0.4885</td>\n",
       "    </tr>\n",
       "    <tr>\n",
       "      <th>Decaying-$\\epsilon$ : decaying rate = 0.9</th>\n",
       "      <td>0.7413</td>\n",
       "      <td>0.4818</td>\n",
       "    </tr>\n",
       "    <tr>\n",
       "      <th>Decaying-$\\epsilon$ : decaying rate = 0.99</th>\n",
       "      <td>0.7360</td>\n",
       "      <td>0.4473</td>\n",
       "    </tr>\n",
       "    <tr>\n",
       "      <th>Decaying-$\\epsilon$ : decaying rate = 0.999</th>\n",
       "      <td>0.7321</td>\n",
       "      <td>0.5022</td>\n",
       "    </tr>\n",
       "    <tr>\n",
       "      <th>Softmax : $\\tau$ = 1</th>\n",
       "      <td>0.0551</td>\n",
       "      <td>0.3894</td>\n",
       "    </tr>\n",
       "    <tr>\n",
       "      <th>Softmax : $\\tau$ = 0.1</th>\n",
       "      <td>0.2640</td>\n",
       "      <td>0.6833</td>\n",
       "    </tr>\n",
       "    <tr>\n",
       "      <th>Softmax : $\\tau$ = 0.01</th>\n",
       "      <td>0.7001</td>\n",
       "      <td>0.7209</td>\n",
       "    </tr>\n",
       "    <tr>\n",
       "      <th>Softmax : $\\tau$ = 0.001</th>\n",
       "      <td>0.7368</td>\n",
       "      <td>0.6999</td>\n",
       "    </tr>\n",
       "  </tbody>\n",
       "</table>\n",
       "</div>"
      ],
      "text/plain": [
       "                                             Accuracy - SARSA  \\\n",
       "Fixed $\\epsilon$ : $\\epsilon$ = 0.1                    0.6433   \n",
       "Fixed $\\epsilon$ : $\\epsilon$ = 0.2                    0.7481   \n",
       "Fixed $\\epsilon$ : $\\epsilon$ = 0.3                    0.6477   \n",
       "Fixed $\\epsilon$ : $\\epsilon$ = 0.4                    0.6386   \n",
       "Fixed $\\epsilon$ : $\\epsilon$ = 0.5                    0.6995   \n",
       "Fixed $\\epsilon$ : $\\epsilon$ = 0.6                    0.7355   \n",
       "Fixed $\\epsilon$ : $\\epsilon$ = 0.7                    0.7075   \n",
       "Fixed $\\epsilon$ : $\\epsilon$ = 0.8                    0.6889   \n",
       "Fixed $\\epsilon$ : $\\epsilon$ = 0.9                    0.7062   \n",
       "Decaying-$\\epsilon$ : decaying rate = 0.9              0.7413   \n",
       "Decaying-$\\epsilon$ : decaying rate = 0.99             0.7360   \n",
       "Decaying-$\\epsilon$ : decaying rate = 0.999            0.7321   \n",
       "Softmax : $\\tau$ = 1                                   0.0551   \n",
       "Softmax : $\\tau$ = 0.1                                 0.2640   \n",
       "Softmax : $\\tau$ = 0.01                                0.7001   \n",
       "Softmax : $\\tau$ = 0.001                               0.7368   \n",
       "\n",
       "                                             Accuracy - QLearning  \n",
       "Fixed $\\epsilon$ : $\\epsilon$ = 0.1                        0.5647  \n",
       "Fixed $\\epsilon$ : $\\epsilon$ = 0.2                        0.6517  \n",
       "Fixed $\\epsilon$ : $\\epsilon$ = 0.3                        0.3307  \n",
       "Fixed $\\epsilon$ : $\\epsilon$ = 0.4                        0.5152  \n",
       "Fixed $\\epsilon$ : $\\epsilon$ = 0.5                        0.3537  \n",
       "Fixed $\\epsilon$ : $\\epsilon$ = 0.6                        0.5556  \n",
       "Fixed $\\epsilon$ : $\\epsilon$ = 0.7                        0.4808  \n",
       "Fixed $\\epsilon$ : $\\epsilon$ = 0.8                        0.5127  \n",
       "Fixed $\\epsilon$ : $\\epsilon$ = 0.9                        0.4885  \n",
       "Decaying-$\\epsilon$ : decaying rate = 0.9                  0.4818  \n",
       "Decaying-$\\epsilon$ : decaying rate = 0.99                 0.4473  \n",
       "Decaying-$\\epsilon$ : decaying rate = 0.999                0.5022  \n",
       "Softmax : $\\tau$ = 1                                       0.3894  \n",
       "Softmax : $\\tau$ = 0.1                                     0.6833  \n",
       "Softmax : $\\tau$ = 0.01                                    0.7209  \n",
       "Softmax : $\\tau$ = 0.001                                   0.6999  "
      ]
     },
     "execution_count": 22,
     "metadata": {},
     "output_type": "execute_result"
    }
   ],
   "source": [
    "n = 5\n",
    "\n",
    "for t in tqdm([1, 0.1, 0.01, 0.001]):\n",
    "    sarsa = 0\n",
    "    sarsaEpisode = 0\n",
    "    ql = 0\n",
    "    qEpisode = 0\n",
    "    for _ in range(n):\n",
    "        q_table, histAcc, qEp = QLearningTh(threshold, softmax = True, tau = t)\n",
    "        ql += testPolicy(q_table, nEpisodeAccuracy)\n",
    "        qEpisode += qEp\n",
    "        q_table, histAcc, sarsaEp  = SARSATh(threshold, softmax = True, tau = t)\n",
    "        sarsa += testPolicy(q_table, nEpisodeAccuracy)\n",
    "        sarsaEpisode += sarsaEp\n",
    "    sarsa /= n\n",
    "    sarsaEpisode /= n\n",
    "    qEpisode /= n\n",
    "    ql /= n\n",
    "    recap.loc[\"Softmax : $\\tau$ = {}\".format(t)] = [sarsa, sarsaEpisode, ql, sarsaEpisode]"
   ]
  }
 ],
 "metadata": {
  "kernelspec": {
   "display_name": "DRL",
   "language": "python",
   "name": "drl"
  },
  "language_info": {
   "codemirror_mode": {
    "name": "ipython",
    "version": 3
   },
   "file_extension": ".py",
   "mimetype": "text/x-python",
   "name": "python",
   "nbconvert_exporter": "python",
   "pygments_lexer": "ipython3",
   "version": "3.6.1"
  }
 },
 "nbformat": 4,
 "nbformat_minor": 2
}
