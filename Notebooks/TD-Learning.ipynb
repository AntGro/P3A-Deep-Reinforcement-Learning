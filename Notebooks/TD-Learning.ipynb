{
 "cells": [
  {
   "cell_type": "markdown",
   "metadata": {},
   "source": [
    "# Reinforcement Learning - Toy examples with Gym\n",
    "\n",
    "## FrozenLake\n",
    "\n",
    "In this Notebook, we will implement $SARSA$ and $Q-Learning$ methods to solve the FrozenLake-v0 environment (https://gym.openai.com/envs/FrozenLake-v0/), using and comparing different policies for exploration.\n",
    "\n",
    "Both algorithms update a tabular estimate of the $Q-function$ using a following update rule:\n",
    "* $SARSA$ algorithm is an on-policy method using:\n",
    "$$Q_{t+1}(s_t,a_t) \\leftarrow Q_t(s_t,a_t) + \\alpha (r_t + \\gamma Q_t(s_{t+1}, a_{t+1}) - Q_t(s_t,a_t))$$\n",
    "\n",
    "* $Q-Learning$ algorithm is an off-policy method using:\n",
    "$$Q_{t+1}(s_t,a_t) \\leftarrow Q_t(s_t,a_t) + \\alpha (r_t + \\gamma \\max_b Q_t(s_{t+1}, b) - Q_t(s_t,a_t))$$\n",
    "\n",
    "For exploration, we will compare performances between:\n",
    "* $\\epsilon$-greedy policy with a fixed $\\epsilon$.\n",
    "* $\\epsilon$-greedy policy with a decaying $\\epsilon$.\n",
    "* softmax exploration assigning a probability for an action to be\n",
    "performed according to the following rule:\n",
    "$$P(a_i \\vert s) = \\frac{e^{\\frac{1}{\\tau}Q(s,a_j)}}{\\sum_j e^{\\frac{1}{\\tau}Q(s,a_j)}}$$"
   ]
  },
  {
   "cell_type": "code",
   "execution_count": 2,
   "metadata": {},
   "outputs": [],
   "source": [
    "import gym\n",
    "import numpy as np\n",
    "import matplotlib.pyplot as plt\n",
    "%matplotlib inline\n",
    "import pandas as pd"
   ]
  },
  {
   "cell_type": "code",
   "execution_count": 3,
   "metadata": {},
   "outputs": [
    {
     "name": "stderr",
     "output_type": "stream",
     "text": [
      "c:\\environments\\drl_env\\lib\\site-packages\\gym\\envs\\registration.py:14: PkgResourcesDeprecationWarning: Parameters to load are deprecated.  Call .resolve and .require separately.\n",
      "  result = entry_point.load(False)\n"
     ]
    }
   ],
   "source": [
    "env = gym.make('FrozenLake-v0')"
   ]
  },
  {
   "cell_type": "markdown",
   "metadata": {},
   "source": [
    "### Function: chooseAction\n",
    "\n",
    "Returns an action (integer belonging to the action space of the FrozenLake-v0's environment) given:\n",
    "* a $Q$-table\n",
    "* a state\n",
    "* $\\epsilon$\n",
    "* $softmax$: boolean set to $True$ if softmax exploration is used\n",
    "* $\\tau$: parameter of the softmax exploration."
   ]
  },
  {
   "cell_type": "code",
   "execution_count": 4,
   "metadata": {},
   "outputs": [],
   "source": [
    "def chooseAction(q_table, state, epsilon = 0, softmax = True, tau = 0.01):\n",
    "    if softmax:\n",
    "        m = max(q_table[state])\n",
    "        aux = np.exp((q_table[state] - m)/tau)\n",
    "        d = np.sum(aux)\n",
    "        return np.random.choice (np.arange(env.action_space.n), p=aux / d)\n",
    "    if np.random.random () > epsilon:\n",
    "        return np.argmax(q_table[state])\n",
    "    return env.action_space.sample()"
   ]
  },
  {
   "cell_type": "markdown",
   "metadata": {},
   "source": [
    "### Function: routine\n",
    "\n",
    "Body function used to implement both $SARSA$ and $Q$-Learning, since only the estimation of the error changes between the two methods.\n",
    "\n",
    "* $algo$: either \"SARSA\" or \"QLearning\"\n",
    "* $nEpisode$: number of episodes we simulate to update our $Q$-function\n",
    "* $\\gamma \\in [0,1]$: discount factor\n",
    "* $\\alpha \\in (0,1]$: learning rate\n",
    "* $\\epsilon_0$: initial value of $\\epsilon$\n",
    "* $\\epsilon_{min}$: minimal value of $\\epsilon$ if a decaying $\\epsilon$ is used\n",
    "* $decreaseRate \\in (0,1]$: geometric parameter of the decaying of $\\epsilon$ (set to 1 if no decaying)\n",
    "* $softmax$: boolean set to $True$ if softmax exploration is used\n",
    "* $\\tau$: parameter of the softmax exploration\n",
    "* $window$: number of episodes we consider to compute the success rate (or accuracy) of the $Q$-function ; ratio of successes on the last $window$ episodes"
   ]
  },
  {
   "cell_type": "code",
   "execution_count": 36,
   "metadata": {},
   "outputs": [],
   "source": [
    "def routine(algo, nEpisode = 20000, gamma = 0.99, alpha = 0.4, epsilon0 = 0.9, epsilonMin = 0.05, decreaseRate = 0.999, softmax = False, tau = 0.01, window = 100):\n",
    "    accuracy = 0\n",
    "    epsilon = epsilon0\n",
    "    q_table = np.ones((env.observation_space.n, env.action_space.n))\n",
    "    result = np.zeros (window)\n",
    "    histAcc = [0]\n",
    "    episode = 0\n",
    "    \n",
    "    for ep in range(nEpisode):\n",
    "        epsilon = max(epsilonMin, decreaseRate * epsilon)\n",
    "        observation0 = env.reset()\n",
    "        action0 = chooseAction(q_table, observation0, epsilon, softmax, tau)\n",
    "        done  = False\n",
    "        for H in range(200):\n",
    "            observation1, reward, done, info = env.step(action0)\n",
    "            action1 = chooseAction(q_table, observation1, epsilon, softmax, tau)\n",
    "            err = reward - q_table[observation0, action0]\n",
    "            \n",
    "            if not done:\n",
    "                if algo == \"SARSA\":\n",
    "                    err += gamma * q_table[observation1, action1]\n",
    "                if algo == \"QLearning\":\n",
    "                    err += gamma * q_table[observation1, np.argmax(q_table[observation1])]\n",
    "            \n",
    "            q_table[observation0, action0] += alpha * err\n",
    "            \n",
    "            if done:\n",
    "                break\n",
    "            \n",
    "            observation0, action0 = observation1, action1\n",
    "\n",
    "        success = 1 if (reward == 1) else 0\n",
    "        accuracy += (success - result[episode]) / window\n",
    "        result[episode] = success\n",
    "        episode = (episode + 1) % window\n",
    "        if episode == 0 or episode == window//2: # accuracy ratio is stored once in @window/2 episodes\n",
    "            histAcc.append(accuracy)\n",
    "\n",
    "    return q_table, histAcc"
   ]
  },
  {
   "cell_type": "markdown",
   "metadata": {},
   "source": [
    "### SARSA"
   ]
  },
  {
   "cell_type": "code",
   "execution_count": 37,
   "metadata": {},
   "outputs": [
    {
     "data": {
      "text/plain": [
       "Text(0.5, 1.0, 'SARSA training on 5000 episodes')"
      ]
     },
     "execution_count": 37,
     "metadata": {},
     "output_type": "execute_result"
    },
    {
     "data": {
      "image/png": "[encoded data removed]",
      "text/plain": [
       "<Figure size 432x288 with 1 Axes>"
      ]
     },
     "metadata": {
      "needs_background": "light"
     },
     "output_type": "display_data"
    }
   ],
   "source": [
    "def SARSA(nEpisode = 2000, gamma = 0.999, alpha = 0.4, epsilon0 = 0.9, epsilonMin = 0.05, decreaseRate = False, softmax = True, tau = 0.01, window = 100):\n",
    "    return routine(\"SARSA\", nEpisode, gamma, alpha, epsilon0, epsilonMin, decreaseRate, softmax, tau, window)\n",
    "\n",
    "\n",
    "w = 100\n",
    "nEpisode = 5000\n",
    "q_table, histAcc = SARSA(nEpisode, softmax = True, window=w, tau = 0.001)\n",
    "plt.plot(w // 2 * np.arange(len(histAcc)), histAcc)\n",
    "\n",
    "plt.xlabel(\"Number of episodes\")\n",
    "plt.ylabel(\"Accuracy on the {} last episodes\".format(w))\n",
    "plt.title(\"SARSA training on {} episodes\".format(nEpisode))"
   ]
  },
  {
   "cell_type": "code",
   "execution_count": 35,
   "metadata": {},
   "outputs": [
    {
     "data": {
      "text/plain": [
       "array([[1.08581754e-04, 6.47443188e-02, 1.35781370e-03, 2.07070495e-03],\n",
       "       [0.00000000e+00, 2.07538623e-02, 0.00000000e+00, 0.00000000e+00],\n",
       "       [4.95097904e-02, 3.10335719e-03, 1.96199207e-04, 2.58026360e-04],\n",
       "       [1.96708401e-03, 8.23232493e-04, 2.32073923e-04, 2.13131428e-03],\n",
       "       [2.23031504e-01, 9.08158595e-04, 1.30702743e-03, 5.71152075e-05],\n",
       "       [0.00000000e+00, 0.00000000e+00, 0.00000000e+00, 0.00000000e+00],\n",
       "       [3.52487200e-02, 5.36837351e-04, 3.18845601e-04, 0.00000000e+00],\n",
       "       [0.00000000e+00, 0.00000000e+00, 0.00000000e+00, 0.00000000e+00],\n",
       "       [7.72611703e-05, 1.51816467e-04, 1.82000671e-04, 2.38205720e-01],\n",
       "       [5.34807783e-05, 4.74440883e-04, 1.05814567e-01, 2.30065429e-04],\n",
       "       [1.49137036e-01, 2.13410865e-04, 7.40413156e-04, 2.60375047e-04],\n",
       "       [0.00000000e+00, 0.00000000e+00, 0.00000000e+00, 0.00000000e+00],\n",
       "       [0.00000000e+00, 0.00000000e+00, 0.00000000e+00, 0.00000000e+00],\n",
       "       [3.80151224e-03, 1.41126295e-03, 6.12022964e-01, 0.00000000e+00],\n",
       "       [3.02794571e-03, 8.82525612e-01, 0.00000000e+00, 0.00000000e+00],\n",
       "       [4.97866643e-01, 6.03866868e-01, 8.99641154e-01, 9.26309713e-01]])"
      ]
     },
     "execution_count": 35,
     "metadata": {},
     "output_type": "execute_result"
    }
   ],
   "source": [
    "q_table"
   ]
  },
  {
   "cell_type": "markdown",
   "metadata": {},
   "source": [
    "### $Q$-Learning"
   ]
  },
  {
   "cell_type": "code",
   "execution_count": 14,
   "metadata": {},
   "outputs": [
    {
     "data": {
      "text/plain": [
       "Text(0.5, 1.0, 'Q-Learning training on 2000 episodes')"
      ]
     },
     "execution_count": 14,
     "metadata": {},
     "output_type": "execute_result"
    },
    {
     "data": {
      "image/png": "[encoded data removed]",
      "text/plain": [
       "<Figure size 432x288 with 1 Axes>"
      ]
     },
     "metadata": {
      "needs_background": "light"
     },
     "output_type": "display_data"
    }
   ],
   "source": [
    "def QLearning(nEpisode = 5000, gamma = 0.999, alpha = 0.4, epsilon0 = 0.9, epsilonMin = 0.05, decreaseRate = True, softmax = False, tau = 0.003, window = 100):\n",
    "    return routine(\"QLearning\", nEpisode, gamma, alpha, epsilon0, epsilonMin, decreaseRate, softmax, tau, window)\n",
    "\n",
    "w = 100\n",
    "nEpisode = 2000\n",
    "q_table, histAcc = QLearning (nEpisode, softmax = True, window=w)\n",
    "plt.plot(100 * np.arange(len(histAcc)), histAcc)\n",
    "\n",
    "plt.xlabel(\"Number of episodes\")\n",
    "plt.ylabel(\"Accuracy on the {} last episodes\".format(w))\n",
    "plt.title(\"Q-Learning training on {} episodes\".format(nEpisode))"
   ]
  },
  {
   "cell_type": "code",
   "execution_count": 15,
   "metadata": {},
   "outputs": [],
   "source": [
    "def testPolicy (q_table, nEpisode = 2000):\n",
    "    success = 0\n",
    "    for _ in range(nEpisode):\n",
    "        t = 0\n",
    "        observation = env.reset()\n",
    "        done  = False\n",
    "        actionTable = np.argmax(q_table, axis = 1)\n",
    "        while not done and t < 200:\n",
    "            action = actionTable[observation]\n",
    "            observation, reward, done, info = env.step(action)\n",
    "            t += 1\n",
    "\n",
    "        if reward == 1:\n",
    "            success += 1\n",
    "    return success / nEpisode"
   ]
  },
  {
   "cell_type": "markdown",
   "metadata": {},
   "source": [
    "## Compare methods"
   ]
  },
  {
   "cell_type": "code",
   "execution_count": 16,
   "metadata": {},
   "outputs": [],
   "source": [
    "recap = pd.DataFrame (columns = [\"Accuracy - SARSA\", \"Accuracy - QLearning\"])\n",
    "\n",
    "N = 10000"
   ]
  },
  {
   "cell_type": "markdown",
   "metadata": {},
   "source": [
    "### $\\epsilon$-greedy with fixed $\\epsilon$"
   ]
  },
  {
   "cell_type": "code",
   "execution_count": null,
   "metadata": {},
   "outputs": [
    {
     "name": "stdout",
     "output_type": "stream",
     "text": [
      "0.1\n",
      "0.2\n",
      "0.30000000000000004\n",
      "0.4\n",
      "0.5\n",
      "0.6000000000000001\n",
      "0.7000000000000001\n",
      "0.8\n"
     ]
    }
   ],
   "source": [
    "n = 5\n",
    "Eps = 0.1 * np.arange(1, 10)\n",
    "\n",
    "for eps in Eps:\n",
    "    sarsa = 0\n",
    "    ql = 0\n",
    "    for _ in range(n):\n",
    "        q_table, histAcc = QLearning (N, epsilon0 = eps, decreaseRate=1)\n",
    "        ql += testPolicy(q_table)\n",
    "        q_table, histAcc = SARSA (N, epsilon0 = eps, decreaseRate=1)\n",
    "        sarsa += testPolicy(q_table)\n",
    "    sarsa /= n\n",
    "    ql /= n\n",
    "    recap.loc[\"Fixed $\\epsilon$ : $\\epsilon$ = {}\".format(round(eps,2))] = [sarsa, ql]"
   ]
  },
  {
   "cell_type": "code",
   "execution_count": null,
   "metadata": {},
   "outputs": [],
   "source": [
    "recap"
   ]
  },
  {
   "cell_type": "markdown",
   "metadata": {},
   "source": [
    "### $\\epsilon$-greedy with decaying $\\epsilon$"
   ]
  },
  {
   "cell_type": "code",
   "execution_count": null,
   "metadata": {},
   "outputs": [],
   "source": [
    "n = 5\n",
    "dr = 0.99\n",
    "\n",
    "for eps in [0.9, 0.5, 0.1]:\n",
    "    sarsa = 0\n",
    "    ql = 0\n",
    "    for _ in range(n):\n",
    "        q_table, histAcc = QLearning (N, epsilon0 = eps, decreaseRate=dr)\n",
    "        ql += testPolicy(q_table)\n",
    "        q_table, histAcc = SARSA (N, epsilon0 = eps, decreaseRate=dr)\n",
    "        sarsa += testPolicy(q_table)\n",
    "    sarsa /= n\n",
    "    ql /= n\n",
    "    recap.loc[\"Decaying $\\epsilon$ : $\\epsilon_0$ = {}\".format(eps)] = [sarsa, ql]\n"
   ]
  },
  {
   "cell_type": "code",
   "execution_count": null,
   "metadata": {},
   "outputs": [],
   "source": [
    "recap"
   ]
  },
  {
   "cell_type": "markdown",
   "metadata": {},
   "source": [
    "### Softmax"
   ]
  },
  {
   "cell_type": "code",
   "execution_count": null,
   "metadata": {},
   "outputs": [],
   "source": [
    "n = 5\n",
    "\n",
    "for t in [1, 0.1, 0.01, 0.001]:\n",
    "    sarsa = 0\n",
    "    ql = 0\n",
    "    for _ in range(n):\n",
    "        q_table, histAcc = QLearning(N, softmax = True, tau = t)\n",
    "        ql += testPolicy(q_table)\n",
    "        q_table, histAcc = SARSA(N, softmax = True, tau = t)\n",
    "        sarsa += testPolicy(q_table)\n",
    "    sarsa /= n\n",
    "    ql /= n\n",
    "    recap.loc[\"Softmax : $\\tau$ = {}\".format(t)] = [sarsa, ql]\n",
    "\n",
    "recap"
   ]
  }
 ],
 "metadata": {
  "kernelspec": {
   "display_name": "DRL",
   "language": "python",
   "name": "drl"
  },
  "language_info": {
   "codemirror_mode": {
    "name": "ipython",
    "version": 3
   },
   "file_extension": ".py",
   "mimetype": "text/x-python",
   "name": "python",
   "nbconvert_exporter": "python",
   "pygments_lexer": "ipython3",
   "version": "3.6.1"
  }
 },
 "nbformat": 4,
 "nbformat_minor": 2
}
