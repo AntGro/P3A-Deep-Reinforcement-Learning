{
 "cells": [
  {
   "cell_type": "code",
   "execution_count": 2,
   "metadata": {
    "collapsed": true
   },
   "outputs": [],
   "source": [
    "import gym\n",
    "import numpy as np\n",
    "import matplotlib.pyplot as plt\n",
    "%matplotlib inline"
   ]
  },
  {
   "cell_type": "code",
   "execution_count": 3,
   "metadata": {
    "collapsed": true
   },
   "outputs": [],
   "source": [
    "env = gym.make('FrozenLake-v0')\n",
    "env = env.unwrapped"
   ]
  },
  {
   "cell_type": "markdown",
   "metadata": {},
   "source": [
    "On implémente ici 3 fonctions qui nous seront utiles pour les 2 algorithmes: \n",
    "- runEpisode : évalue une policy en jouant un episode et en renvoyant son total reward.\n",
    "- evaluatePolicy : évalue une policy en lançant un épisode n fois. \n",
    "- extractPolicy : déduit la policy optimale connaissant la value function. \n",
    "\n",
    "Les arguments sont les suivants:\n",
    "- $env$ : gym environment\n",
    "- $policy$ : policy utilisée\n",
    "- $gamma$ : discount factor \n",
    "- $n$ : le nombre d'épisodes joués\n",
    "- $v$ : value function\n"
   ]
  },
  {
   "cell_type": "code",
   "execution_count": 8,
   "metadata": {
    "collapsed": true
   },
   "outputs": [],
   "source": [
    "def runEpisode(env, policy, gamma = 1.0):\n",
    "    obs = env.reset()\n",
    "    total_reward = 0\n",
    "    step_idx = 0\n",
    "    while True:\n",
    "        obs, reward, done , _ = env.step(int(policy[obs]))\n",
    "        total_reward += (gamma ** step_idx * reward)\n",
    "        step_idx += 1\n",
    "        if done:\n",
    "            break\n",
    "    return total_reward\n",
    "\n",
    "def evaluatePolicy(env, policy, gamma = 1.0,  n = 100):\n",
    "    scores = [\n",
    "            runEpisode(env, policy, gamma = gamma)\n",
    "            for _ in range(n)]\n",
    "    return np.mean(scores)\n",
    "\n",
    "def extractPolicy(v, gamma = 1.0):\n",
    "    policy = np.zeros(env.nS)\n",
    "    for s in range(env.nS):\n",
    "        q_sa = np.zeros(env.action_space.n)\n",
    "        for a in range(env.action_space.n):\n",
    "            for next_sr in env.P[s][a]:\n",
    "                # next_sr is a tuple of (probability, next state, reward, done)\n",
    "                p, s_, r, _ = next_sr\n",
    "                q_sa[a] += (p * (r + gamma * v[s_]))\n",
    "        policy[s] = np.argmax(q_sa)\n",
    "    return policy"
   ]
  },
  {
   "cell_type": "markdown",
   "metadata": {},
   "source": [
    "On implémente ici le coeur de l'algorithme \"Value Iteration\" basée sur la mises à jour suivantes de la fonction action-value et de la policy: \n",
    "$V_{n+1}(s) = \\max_{a} \\sum_{s'} \\mathbb{P}_{ss'}^{a}(r_{ss'}^{a}+\\gamma V_{n}(s'))$\n",
    "\n",
    "$\\pi(s) = argmax_{a} \\sum_{s'} \\mathbb{P}_{ss'}^{a}(r_{ss'}^{a}+\\gamma V_{n}(s'))$\n",
    "\n"
   ]
  },
  {
   "cell_type": "code",
   "execution_count": 9,
   "metadata": {},
   "outputs": [
    {
     "name": "stdout",
     "output_type": "stream",
     "text": [
      "Value-iteration converged at iteration# 1373.\n",
      "Policy average score =  0.808\n"
     ]
    }
   ],
   "source": [
    "#Value iteration\n",
    "\n",
    "def valueIteration(env, gamma = 1.0):\n",
    "    v = np.zeros(env.nS)  # initialize value-function\n",
    "    max_iterations = 100000\n",
    "    eps = 1e-20\n",
    "    for i in range(max_iterations):\n",
    "        prev_v = np.copy(v)\n",
    "        for s in range(env.nS):\n",
    "            q_sa = [sum([p*(r + prev_v[s_]) for p, s_, r, _ in env.P[s][a]]) for a in range(env.nA)] \n",
    "            v[s] = max(q_sa)\n",
    "        if (np.sum(np.fabs(prev_v - v)) <= eps):\n",
    "            print ('Value-iteration converged at iteration# %d.' %(i+1))\n",
    "            break\n",
    "    return v\n",
    "\n",
    "optimalV = valueIteration(env, gamma=1.0);\n",
    "policy = extractPolicy(optimalV, gamma=1.0)\n",
    "policyScore = evaluatePolicy(env, policy, gamma=1.0, n=1000)\n",
    "print('Policy average score = ', policyScore)"
   ]
  },
  {
   "cell_type": "markdown",
   "metadata": {},
   "source": [
    "On implémente ici l'algorithme de \"policy iteration\". Pour cela on utilise de deux fonctions :\n",
    "- computePolicyV : évalue la value-function pour une policy donnée en itérant de la manière suivante \n",
    "$V_{n+1}(s) = \\sum_{s'} \\mathbb{P}_{ss'}^{a}(r_{ss'}^{a}+\\gamma V_{n}(s'))$\n",
    "- policyIteration : il s'agit du coeur de l'algorithme.\n"
   ]
  },
  {
   "cell_type": "code",
   "execution_count": 11,
   "metadata": {},
   "outputs": [
    {
     "name": "stdout",
     "output_type": "stream",
     "text": [
      "Policy-Iteration converged at step 3.\n",
      "Average scores =  0.82\n"
     ]
    }
   ],
   "source": [
    "def computePolicyV(env, policy, gamma=1.0):\n",
    "    v = np.zeros(env.nS)\n",
    "    eps = 1e-10\n",
    "    while True:\n",
    "        prev_v = np.copy(v)\n",
    "        for s in range(env.nS):\n",
    "            policy_a = policy[s]\n",
    "            v[s] = sum([p * (r + gamma * prev_v[s_]) for p, s_, r, _ in env.P[s][policy_a]])\n",
    "        if (np.sum((np.fabs(prev_v - v))) <= eps):\n",
    "            # value converged\n",
    "            break\n",
    "    return v\n",
    "\n",
    "def policyIteration(env, gamma = 1.0):\n",
    "    policy = np.random.choice(env.nA, size=(env.nS))  # initialize a random policy\n",
    "    max_iterations = 200000\n",
    "    gamma = 1.0\n",
    "    for i in range(max_iterations):\n",
    "        old_policy_v = computePolicyV(env, policy, gamma)\n",
    "        new_policy = extractPolicy(old_policy_v, gamma)\n",
    "        if (np.all(policy == new_policy)):\n",
    "            print ('Policy-Iteration converged at step %d.' %(i+1))\n",
    "            break\n",
    "        policy = new_policy\n",
    "    return policy\n",
    "\n",
    "optimalPolicy = policyIteration(env, gamma = 1.0)\n",
    "scores = evaluatePolicy(env, optimalPolicy, gamma = 1.0)\n",
    "print('Average scores = ', np.mean(scores))"
   ]
  },
  {
   "cell_type": "code",
   "execution_count": null,
   "metadata": {
    "collapsed": true
   },
   "outputs": [],
   "source": []
  }
 ],
 "metadata": {
  "kernelspec": {
   "display_name": "Python 3",
   "language": "python",
   "name": "python3"
  },
  "language_info": {
   "codemirror_mode": {
    "name": "ipython",
    "version": 3
   },
   "file_extension": ".py",
   "mimetype": "text/x-python",
   "name": "python",
   "nbconvert_exporter": "python",
   "pygments_lexer": "ipython3",
   "version": "3.6.1"
  }
 },
 "nbformat": 4,
 "nbformat_minor": 2
}
