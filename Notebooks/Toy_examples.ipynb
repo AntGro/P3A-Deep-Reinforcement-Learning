{
 "cells": [
  {
   "cell_type": "markdown",
   "metadata": {},
   "source": [
    "# Reinforcement Learning - Toy examples with Gym\n",
    "\n",
    "## FrozenLake\n",
    "\n",
    "In this Notebook, we will implement $SARSA$ and $Q-Learning$ methods to solve the FrozenLake-v0 environment (https://gym.openai.com/envs/FrozenLake-v0/), using and comparing different policies for exploration.\n",
    "\n",
    "Both algorithms update a tabular estimate of the $Q-function$ using a following update rule:\n",
    "* $SARSA$ algorithm is an on-policy method using:\n",
    "$Q_{t+1}(s_t,a_t) \\leftarrow Q_t(s_t,a_t) + \\alpha (r_t + \\gamma Q_t(s_{t+1}, a_{t+1}) - Q_t(s_t,a_t))$\n",
    "\n",
    "* $Q-Learning$ algorithm is an off-policy method using:\n",
    "$Q_{t+1}(s_t,a_t) \\leftarrow Q_t(s_t,a_t) + \\alpha (r_t + \\gamma \\max_b Q_t(s_{t+1}, b) - Q_t(s_t,a_t))$\n",
    "\n",
    "For exploration, we will compare performances between:\n",
    "* $\\epsilon$-greedy policy with a fixed $\\epsilon$.\n",
    "* $\\epsilon$-greedy policy with a decaying $\\epsilon$.\n",
    "* softmax exploration assigning a probability for an action to be\n",
    "performed according to the following rule:\n",
    "$P(a_i \\vert s) = \\frac{e^{\\frac{1}{\\tau}Q(s,a_j)}}{\\sum_j e^{\\frac{1}{\\tau}Q(s,a_j)}}$"
   ]
  },
  {
   "cell_type": "code",
   "execution_count": 1,
   "metadata": {},
   "outputs": [],
   "source": [
    "import gym\n",
    "import numpy as np\n",
    "import matplotlib.pyplot as plt\n",
    "%matplotlib inline"
   ]
  },
  {
   "cell_type": "code",
   "execution_count": 2,
   "metadata": {},
   "outputs": [
    {
     "name": "stderr",
     "output_type": "stream",
     "text": [
      "c:\\environments\\drl_env\\lib\\site-packages\\gym\\envs\\registration.py:14: PkgResourcesDeprecationWarning: Parameters to load are deprecated.  Call .resolve and .require separately.\n",
      "  result = entry_point.load(False)\n"
     ]
    }
   ],
   "source": [
    "env = gym.make('FrozenLake-v0')"
   ]
  },
  {
   "cell_type": "markdown",
   "metadata": {},
   "source": [
    "### Function: chooseAction\n",
    "\n",
    "Returns an action (integer belonging to the action space of the FrozenLake-v0's environment) given:\n",
    "* a $Q$-table\n",
    "* a state\n",
    "* $\\epsilon$\n",
    "* $softmax$: boolean set to $True$ if softmax exploration is used\n",
    "* $\\tau$: parameter of the softmax exploration."
   ]
  },
  {
   "cell_type": "code",
   "execution_count": 29,
   "metadata": {},
   "outputs": [],
   "source": [
    "def chooseAction(q_table, state, epsilon = 0, softmax = True, tau = 0.01):\n",
    "    if softmax:\n",
    "        aux = np.exp(q_table[state]/tau)\n",
    "        d = np.sum(aux)\n",
    "        return np.random.choice (np.arange(env.action_space.n), p=aux / d)\n",
    "    if np.random.random () > epsilon:\n",
    "        return np.argmax(q_table[state])\n",
    "    return env.action_space.sample()\n",
    "        "
   ]
  },
  {
   "cell_type": "markdown",
   "metadata": {},
   "source": [
    "### Function: routine\n",
    "\n",
    "Body function used to implement both $SARSA$ and $Q$-Learning, since only the estimation of the error changes between the two methods.\n",
    "\n",
    "* $algo$: either \"SARSA\" or \"QLearning\"\n",
    "* $nEpisode$: number of episodes we simulate to update our $Q$-function\n",
    "* $\\gamma \\in [0,1]$: discount factor\n",
    "* $\\alpha \\in (0,1]$: learning rate\n",
    "* $\\epsilon_0$: initial value of $\\epsilon$\n",
    "* $\\epsilon_{min}$: minimal value of $\\epsilon$ if a decaying $\\epsilon$ is used\n",
    "* $decreaseRate \\in (0,1]$: geometric parameter of the decaying of $\\epsilon$ (set to 1 if no decaying)\n",
    "* $softmax$: boolean set to $True$ if softmax exploration is used\n",
    "* $\\tau$: parameter of the softmax exploration\n",
    "* $window$: number of episodes we consider to compute the success rate (or accuracy) of the $Q$-function ; ratio of successes on the last $window$ episodes"
   ]
  },
  {
   "cell_type": "code",
   "execution_count": 42,
   "metadata": {},
   "outputs": [],
   "source": [
    "def routine(algo, nEpisode = 20000, gamma = 0.99, alpha = 0.4, epsilon0 = 0.9, epsilonMin = 0.05, decreaseRate = True, softmax = True, tau = 0.01, window = 100):\n",
    "    accuracy = 0\n",
    "    epsilon = epsilon0\n",
    "    q_table = np.ones((env.observation_space.n, env.action_space.n))\n",
    "    result = np.zeros (window)\n",
    "    histAcc = [0]\n",
    "    episode = 0\n",
    "    \n",
    "    for _ in range(nEpisode):\n",
    "        epsilon = max(epsilonMin, 0.999 * epsilon) if decreaseRate else epsilon\n",
    "        observation0 = env.reset()\n",
    "        action0 = chooseAction(q_table, observation0, epsilon, softmax, tau)\n",
    "        done  = False\n",
    "        for H in range(200):\n",
    "            observation1, reward, done, info = env.step(action0)\n",
    "            action1 = chooseAction(q_table, observation1, epsilon, softmax, tau)\n",
    "            err = reward - q_table[observation0, action0]\n",
    "            \n",
    "            if not done:\n",
    "                if algo == \"SARSA\":\n",
    "                    err += gamma * q_table[observation1, action1]\n",
    "                if algo == \"QLearning\":\n",
    "                    err += gamma * q_table[observation1, np.argmax(q_table[observation1])]\n",
    "            \n",
    "            q_table[observation0, action0] += alpha * err\n",
    "            \n",
    "            if done:\n",
    "                break\n",
    "            \n",
    "            observation0, action0 = observation1, action1\n",
    "\n",
    "        success = 1 if (reward == 1) else 0\n",
    "        accuracy += (success - result[episode]) / window\n",
    "        result[episode] = success\n",
    "        episode = (episode + 1) % window\n",
    "        if episode == 0: # accuracy ratio is stored once in @window episodes\n",
    "            histAcc.append(accuracy)\n",
    "\n",
    "    return q_table, histAcc"
   ]
  },
  {
   "cell_type": "markdown",
   "metadata": {},
   "source": [
    "### SARSA"
   ]
  },
  {
   "cell_type": "code",
   "execution_count": 49,
   "metadata": {},
   "outputs": [
    {
     "data": {
      "text/plain": [
       "[<matplotlib.lines.Line2D at 0x298978add30>]"
      ]
     },
     "execution_count": 49,
     "metadata": {},
     "output_type": "execute_result"
    },
    {
     "data": {
      "image/png": "[encoded data removed]",
      "text/plain": [
       "<Figure size 432x288 with 1 Axes>"
      ]
     },
     "metadata": {
      "needs_background": "light"
     },
     "output_type": "display_data"
    }
   ],
   "source": [
    "def SARSA(nEpisode = 20000, gamma = 0.999, alpha = 0.4, epsilon0 = 0.9, epsilonMin = 0.05, decreaseRate = True, softmax = True, tau = 0.01, window = 100):\n",
    "    return routine(\"SARSA\", nEpisode, gamma, alpha, epsilon0, epsilonMin, decreaseRate, softmax, tau, window)\n",
    "        \n",
    "q_table, histAcc = SARSA (20000, softmax = True)\n",
    "plt.plot(100 * np.arange(len(histAcc)), histAcc)"
   ]
  },
  {
   "cell_type": "markdown",
   "metadata": {},
   "source": [
    "### $Q$-Learning"
   ]
  },
  {
   "cell_type": "code",
   "execution_count": 47,
   "metadata": {},
   "outputs": [
    {
     "data": {
      "text/plain": [
       "[<matplotlib.lines.Line2D at 0x29897852470>]"
      ]
     },
     "execution_count": 47,
     "metadata": {},
     "output_type": "execute_result"
    },
    {
     "data": {
      "image/png": "[encoded data removed]",
      "text/plain": [
       "<Figure size 432x288 with 1 Axes>"
      ]
     },
     "metadata": {
      "needs_background": "light"
     },
     "output_type": "display_data"
    }
   ],
   "source": [
    "def QLearning(nEpisode = 20000, gamma = 0.999, alpha = 0.4, epsilon0 = 0.9, epsilonMin = 0.05, decreaseRate = True, softmax = True, tau = 0.003, window = 100):\n",
    "    return routine(\"QLearning\", nEpisode, gamma, alpha, epsilon0, epsilonMin, decreaseRate, softmax, tau, window)\n",
    "\n",
    "q_table, histAcc = QLearning (20000, softmax = True)\n",
    "plt.plot(100 * np.arange(len(histAcc)), histAcc)"
   ]
  },
  {
   "cell_type": "code",
   "execution_count": 46,
   "metadata": {},
   "outputs": [
    {
     "name": "stdout",
     "output_type": "stream",
     "text": [
      "0.738\n",
      "0.746\n",
      "0.739\n",
      "0.7435\n",
      "0.7385\n",
      "0.718\n",
      "0.744\n",
      "0.754\n",
      "0.6615\n",
      "0.6515\n"
     ]
    }
   ],
   "source": [
    "def testPolicy (q_table, nEpisode = 2000):\n",
    "    success = 0\n",
    "    for _ in range(nEpisode):\n",
    "        t = 0\n",
    "        observation = env.reset()\n",
    "        done  = False\n",
    "        while not done and t < 200:\n",
    "            action = np.argmax(q_table[observation])\n",
    "            observation, reward, done, info = env.step(action)\n",
    "            t += 1\n",
    "\n",
    "        if reward == 1:\n",
    "            success += 1\n",
    "    return success / nEpisode\n",
    "\n",
    "for _ in range(5):\n",
    "    q_table, histAcc = QLearning (2000, softmax = True)\n",
    "    print(testPolicy(q_table))\n",
    "    q_table, histAcc = SARSA (2000, softmax = True)\n",
    "    print(testPolicy(q_table))"
   ]
  },
  {
   "cell_type": "code",
   "execution_count": 53,
   "metadata": {},
   "outputs": [
    {
     "data": {
      "text/plain": [
       "array([[0, 3, 3, 3],\n",
       "       [0, 0, 0, 0],\n",
       "       [3, 1, 0, 0],\n",
       "       [0, 2, 1, 0]], dtype=int64)"
      ]
     },
     "execution_count": 53,
     "metadata": {},
     "output_type": "execute_result"
    }
   ],
   "source": [
    "np.argmax(q_table, axis = 1).reshape((4,4))"
   ]
  }
 ],
 "metadata": {
  "kernelspec": {
   "display_name": "DRL",
   "language": "python",
   "name": "drl"
  },
  "language_info": {
   "codemirror_mode": {
    "name": "ipython",
    "version": 3
   },
   "file_extension": ".py",
   "mimetype": "text/x-python",
   "name": "python",
   "nbconvert_exporter": "python",
   "pygments_lexer": "ipython3",
   "version": "3.6.1"
  }
 },
 "nbformat": 4,
 "nbformat_minor": 2
}
