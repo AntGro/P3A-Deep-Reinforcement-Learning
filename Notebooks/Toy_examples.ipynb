{
 "cells": [
  {
   "cell_type": "markdown",
   "metadata": {},
   "source": [
    "# Reinforcement Learning - Toy examples with Gym\n",
    "\n",
    "## FrozenLake\n",
    "\n",
    "In this Notebook, we will implement $SARSA$ and $Q-Learning$ methods to solve the FrozenLake-v0 environment (https://gym.openai.com/envs/FrozenLake-v0/), using and comparing different policies for exploration.\n",
    "\n",
    "Both algorithms update a tabular estimate of the $Q-function$ using a following update rule:\n",
    "* $SARSA$ algorithm is an on-policy method using:\n",
    "$$Q_{t+1}(s_t,a_t) \\leftarrow Q_t(s_t,a_t) + \\alpha (r_t + \\gamma Q_t(s_{t+1}, a_{t+1}) - Q_t(s_t,a_t))$$\n",
    "\n",
    "* $Q-Learning$ algorithm is an off-policy method using:\n",
    "$$Q_{t+1}(s_t,a_t) \\leftarrow Q_t(s_t,a_t) + \\alpha (r_t + \\gamma \\max_b Q_t(s_{t+1}, b) - Q_t(s_t,a_t))$$\n",
    "\n",
    "For exploration, we will compare performances between:\n",
    "* $\\epsilon$-greedy policy with a fixed $\\epsilon$.\n",
    "* $\\epsilon$-greedy policy with a decaying $\\epsilon$.\n",
    "* softmax exploration assigning a probability for an action to be\n",
    "performed according to the following rule:\n",
    "$$P(a_i \\vert s) = \\frac{e^{\\frac{1}{\\tau}Q(s,a_j)}}{\\sum_j e^{\\frac{1}{\\tau}Q(s,a_j)}}$$"
   ]
  },
  {
   "cell_type": "code",
   "execution_count": 1,
   "metadata": {},
   "outputs": [],
   "source": [
    "import gym\n",
    "import numpy as np\n",
    "import matplotlib.pyplot as plt\n",
    "%matplotlib inline\n",
    "import pandas as pd"
   ]
  },
  {
   "cell_type": "code",
   "execution_count": 2,
   "metadata": {},
   "outputs": [
    {
     "name": "stderr",
     "output_type": "stream",
     "text": [
      "c:\\environments\\drl_env\\lib\\site-packages\\gym\\envs\\registration.py:14: PkgResourcesDeprecationWarning: Parameters to load are deprecated.  Call .resolve and .require separately.\n",
      "  result = entry_point.load(False)\n"
     ]
    }
   ],
   "source": [
    "env = gym.make('FrozenLake-v0')"
   ]
  },
  {
   "cell_type": "markdown",
   "metadata": {},
   "source": [
    "### Function: chooseAction\n",
    "\n",
    "Returns an action (integer belonging to the action space of the FrozenLake-v0's environment) given:\n",
    "* a $Q$-table\n",
    "* a state\n",
    "* $\\epsilon$\n",
    "* $softmax$: boolean set to $True$ if softmax exploration is used\n",
    "* $\\tau$: parameter of the softmax exploration."
   ]
  },
  {
   "cell_type": "code",
   "execution_count": 3,
   "metadata": {},
   "outputs": [],
   "source": [
    "def chooseAction(q_table, state, epsilon = 0, softmax = True, tau = 0.01):\n",
    "    if softmax:\n",
    "        aux = np.exp(q_table[state]/tau)\n",
    "        d = np.sum(aux)\n",
    "        return np.random.choice (np.arange(env.action_space.n), p=aux / d)\n",
    "    if np.random.random () > epsilon:\n",
    "        return np.argmax(q_table[state])\n",
    "    return env.action_space.sample()"
   ]
  },
  {
   "cell_type": "markdown",
   "metadata": {},
   "source": [
    "### Function: routine\n",
    "\n",
    "Body function used to implement both $SARSA$ and $Q$-Learning, since only the estimation of the error changes between the two methods.\n",
    "\n",
    "* $algo$: either \"SARSA\" or \"QLearning\"\n",
    "* $nEpisode$: number of episodes we simulate to update our $Q$-function\n",
    "* $\\gamma \\in [0,1]$: discount factor\n",
    "* $\\alpha \\in (0,1]$: learning rate\n",
    "* $\\epsilon_0$: initial value of $\\epsilon$\n",
    "* $\\epsilon_{min}$: minimal value of $\\epsilon$ if a decaying $\\epsilon$ is used\n",
    "* $decreaseRate \\in (0,1]$: geometric parameter of the decaying of $\\epsilon$ (set to 1 if no decaying)\n",
    "* $softmax$: boolean set to $True$ if softmax exploration is used\n",
    "* $\\tau$: parameter of the softmax exploration\n",
    "* $window$: number of episodes we consider to compute the success rate (or accuracy) of the $Q$-function ; ratio of successes on the last $window$ episodes"
   ]
  },
  {
   "cell_type": "code",
   "execution_count": 4,
   "metadata": {},
   "outputs": [],
   "source": [
    "def routine(algo, nEpisode = 20000, gamma = 0.99, alpha = 0.4, epsilon0 = 0.9, epsilonMin = 0.05, decreaseRate = 0.999, softmax = False, tau = 0.01, window = 100):\n",
    "    accuracy = 0\n",
    "    epsilon = epsilon0\n",
    "    q_table = np.ones((env.observation_space.n, env.action_space.n))\n",
    "    result = np.zeros (window)\n",
    "    histAcc = [0]\n",
    "    episode = 0\n",
    "    \n",
    "    for ep in range(nEpisode):\n",
    "        epsilon = max(epsilonMin, decreaseRate * epsilon)\n",
    "        observation0 = env.reset()\n",
    "        action0 = chooseAction(q_table, observation0, epsilon, softmax, tau)\n",
    "        done  = False\n",
    "        for H in range(200):\n",
    "            observation1, reward, done, info = env.step(action0)\n",
    "            action1 = chooseAction(q_table, observation1, epsilon, softmax, tau)\n",
    "            err = reward - q_table[observation0, action0]\n",
    "            \n",
    "            if not done:\n",
    "                if algo == \"SARSA\":\n",
    "                    err += gamma * q_table[observation1, action1]\n",
    "                if algo == \"QLearning\":\n",
    "                    err += gamma * q_table[observation1, np.argmax(q_table[observation1])]\n",
    "            \n",
    "            q_table[observation0, action0] += alpha * err\n",
    "            \n",
    "            if done:\n",
    "                break\n",
    "            \n",
    "            observation0, action0 = observation1, action1\n",
    "\n",
    "        success = 1 if (reward == 1) else 0\n",
    "        accuracy += (success - result[episode]) / window\n",
    "        result[episode] = success\n",
    "        episode = (episode + 1) % window\n",
    "        if episode == 0 or episode == window//2: # accuracy ratio is stored once in @window/2 episodes\n",
    "            histAcc.append(accuracy)\n",
    "\n",
    "    return q_table, histAcc"
   ]
  },
  {
   "cell_type": "markdown",
   "metadata": {},
   "source": [
    "### SARSA"
   ]
  },
  {
   "cell_type": "code",
   "execution_count": 5,
   "metadata": {},
   "outputs": [
    {
     "data": {
      "text/plain": [
       "[<matplotlib.lines.Line2D at 0x130c63d4a20>]"
      ]
     },
     "execution_count": 5,
     "metadata": {},
     "output_type": "execute_result"
    },
    {
     "data": {
      "image/png": "[encoded data removed]",
      "text/plain": [
       "<Figure size 432x288 with 1 Axes>"
      ]
     },
     "metadata": {
      "needs_background": "light"
     },
     "output_type": "display_data"
    }
   ],
   "source": [
    "def SARSA(nEpisode = 20000, gamma = 0.999, alpha = 0.4, epsilon0 = 0.9, epsilonMin = 0.05, decreaseRate = False, softmax = True, tau = 0.01, window = 100):\n",
    "    return routine(\"SARSA\", nEpisode, gamma, alpha, epsilon0, epsilonMin, decreaseRate, softmax, tau, window)\n",
    "\n",
    "\n",
    "w = 100\n",
    "q_table, histAcc = SARSA (2000, softmax = True, window = w)\n",
    "plt.plot(w // 2 * np.arange(len(histAcc)), histAcc)\n",
    "\n",
    "plt.xlabel(\"Number of episodes\")\n",
    "plt.ylabel(\"Accuracy on the {} last episodes\".format(window))\n",
    "plt.title(\"SARSA training on {} episodes\".format(nEpisode))"
   ]
  },
  {
   "cell_type": "markdown",
   "metadata": {},
   "source": [
    "### $Q$-Learning"
   ]
  },
  {
   "cell_type": "code",
   "execution_count": 6,
   "metadata": {},
   "outputs": [
    {
     "data": {
      "text/plain": [
       "[<matplotlib.lines.Line2D at 0x130c646ea90>]"
      ]
     },
     "execution_count": 6,
     "metadata": {},
     "output_type": "execute_result"
    },
    {
     "data": {
      "image/png": "[encoded data removed]",
      "text/plain": [
       "<Figure size 432x288 with 1 Axes>"
      ]
     },
     "metadata": {
      "needs_background": "light"
     },
     "output_type": "display_data"
    }
   ],
   "source": [
    "def QLearning(nEpisode = 5000, gamma = 0.999, alpha = 0.4, epsilon0 = 0.9, epsilonMin = 0.05, decreaseRate = True, softmax = False, tau = 0.003, window = 100):\n",
    "    return routine(\"QLearning\", nEpisode, gamma, alpha, epsilon0, epsilonMin, decreaseRate, softmax, tau, window)\n",
    "\n",
    "w = 100\n",
    "nEpisode = 2000\n",
    "q_table, histAcc = QLearning (nEpisode, softmax = True, window=w)\n",
    "plt.plot(100 * np.arange(len(histAcc)), histAcc)\n",
    "\n",
    "plt.xlabel(\"Number of episodes\")\n",
    "plt.ylabel(\"Accuracy on the {} last episodes\".format(window))\n",
    "plt.title(\"Q-Learning training on {} episodes\".format(nEpisode))"
   ]
  },
  {
   "cell_type": "code",
   "execution_count": 7,
   "metadata": {},
   "outputs": [],
   "source": [
    "def testPolicy (q_table, nEpisode = 2000):\n",
    "    success = 0\n",
    "    for _ in range(nEpisode):\n",
    "        t = 0\n",
    "        observation = env.reset()\n",
    "        done  = False\n",
    "        actionTable = np.argmax(q_table, axis = 1)\n",
    "        while not done and t < 200:\n",
    "            action = actionTable[observation]\n",
    "            observation, reward, done, info = env.step(action)\n",
    "            t += 1\n",
    "\n",
    "        if reward == 1:\n",
    "            success += 1\n",
    "    return success / nEpisode"
   ]
  },
  {
   "cell_type": "markdown",
   "metadata": {},
   "source": [
    "## Compare methods"
   ]
  },
  {
   "cell_type": "code",
   "execution_count": 11,
   "metadata": {},
   "outputs": [],
   "source": [
    "recap = pd.DataFrame (columns = [\"Accuracy - SARSA\", \"Accuracy - QLearning\"])"
   ]
  },
  {
   "cell_type": "markdown",
   "metadata": {},
   "source": [
    "### $\\epsilon$-greedy with fixed $\\epsilon$"
   ]
  },
  {
   "cell_type": "code",
   "execution_count": 12,
   "metadata": {},
   "outputs": [
    {
     "data": {
      "text/html": [
       "<div>\n",
       "<style scoped>\n",
       "    .dataframe tbody tr th:only-of-type {\n",
       "        vertical-align: middle;\n",
       "    }\n",
       "\n",
       "    .dataframe tbody tr th {\n",
       "        vertical-align: top;\n",
       "    }\n",
       "\n",
       "    .dataframe thead th {\n",
       "        text-align: right;\n",
       "    }\n",
       "</style>\n",
       "<table border=\"1\" class=\"dataframe\">\n",
       "  <thead>\n",
       "    <tr style=\"text-align: right;\">\n",
       "      <th></th>\n",
       "      <th>Accuracy - SARSA</th>\n",
       "      <th>Accuracy - QLearning</th>\n",
       "    </tr>\n",
       "  </thead>\n",
       "  <tbody>\n",
       "    <tr>\n",
       "      <th>Fixed $\\epsilon$ : $\\epsilon$ = 0.9</th>\n",
       "      <td>0.7312</td>\n",
       "      <td>0.4434</td>\n",
       "    </tr>\n",
       "    <tr>\n",
       "      <th>Fixed $\\epsilon$ : $\\epsilon$ = 0.5</th>\n",
       "      <td>0.7331</td>\n",
       "      <td>0.6604</td>\n",
       "    </tr>\n",
       "    <tr>\n",
       "      <th>Fixed $\\epsilon$ : $\\epsilon$ = 0.1</th>\n",
       "      <td>0.7428</td>\n",
       "      <td>0.4060</td>\n",
       "    </tr>\n",
       "  </tbody>\n",
       "</table>\n",
       "</div>"
      ],
      "text/plain": [
       "                                     Accuracy - SARSA  Accuracy - QLearning\n",
       "Fixed $\\epsilon$ : $\\epsilon$ = 0.9            0.7312                0.4434\n",
       "Fixed $\\epsilon$ : $\\epsilon$ = 0.5            0.7331                0.6604\n",
       "Fixed $\\epsilon$ : $\\epsilon$ = 0.1            0.7428                0.4060"
      ]
     },
     "execution_count": 12,
     "metadata": {},
     "output_type": "execute_result"
    }
   ],
   "source": [
    "n = 5\n",
    "\n",
    "for eps in [0.9, 0.5, 0.1]:\n",
    "    sarsa = 0\n",
    "    ql = 0\n",
    "    for _ in range(n):\n",
    "        q_table, histAcc = QLearning (5000, epsilon0 = eps, decreaseRate=1)\n",
    "        ql += testPolicy(q_table)\n",
    "        q_table, histAcc = SARSA (5000, epsilon0 = eps, decreaseRate=1)\n",
    "        sarsa += testPolicy(q_table)\n",
    "    sarsa /= n\n",
    "    ql /= n\n",
    "    recap.loc[\"Fixed $\\epsilon$ : $\\epsilon$ = {}\".format(eps)] = [sarsa, ql]"
   ]
  },
  {
   "cell_type": "markdown",
   "metadata": {},
   "source": [
    "### $\\epsilon$-greedy with decaying $\\epsilon$"
   ]
  },
  {
   "cell_type": "code",
   "execution_count": null,
   "metadata": {},
   "outputs": [],
   "source": [
    "n = 5\n",
    "\n",
    "for eps in [0.9, 0.5, 0.1]:\n",
    "    for dr in [0.999, 0.99, 0.9]\n",
    "        sarsa = 0\n",
    "        ql = 0\n",
    "        for _ in range(n):\n",
    "            q_table, histAcc = QLearning (5000, epsilon0 = eps, decreaseRate=dr)\n",
    "            ql += testPolicy(q_table)\n",
    "            q_table, histAcc = SARSA (5000, epsilon0 = eps, decreaseRate=dr)\n",
    "            sarsa += testPolicy(q_table)\n",
    "        sarsa /= n\n",
    "        ql /= n\n",
    "        recap.loc[\"Decaying $\\epsilon$ : ($\\epsilon_0, decreaseRate$) = ({},{})\".format(eps, dr)] = [sarsa, ql]\n",
    "\n",
    "recap"
   ]
  },
  {
   "cell_type": "markdown",
   "metadata": {},
   "source": [
    "### Softmax"
   ]
  },
  {
   "cell_type": "code",
   "execution_count": 13,
   "metadata": {},
   "outputs": [
    {
     "ename": "ValueError",
     "evalue": "cannot set a row with mismatched columns",
     "traceback": [
      "\u001b[1;31m---------------------------------------------------------------------------\u001b[0m",
      "\u001b[1;31mValueError\u001b[0m                                Traceback (most recent call last)",
      "\u001b[1;32m<ipython-input-13-9b23aee72b66>\u001b[0m in \u001b[0;36m<module>\u001b[1;34m\u001b[0m\n\u001b[0;32m     11\u001b[0m     \u001b[0msarsa\u001b[0m \u001b[1;33m/=\u001b[0m \u001b[0mn\u001b[0m\u001b[1;33m\u001b[0m\u001b[0m\n\u001b[0;32m     12\u001b[0m     \u001b[0mql\u001b[0m \u001b[1;33m/=\u001b[0m \u001b[0mn\u001b[0m\u001b[1;33m\u001b[0m\u001b[0m\n\u001b[1;32m---> 13\u001b[1;33m     \u001b[0mrecap\u001b[0m\u001b[1;33m.\u001b[0m\u001b[0mloc\u001b[0m\u001b[1;33m[\u001b[0m\u001b[1;34m\"Softmax : $\\tau$ = {}\"\u001b[0m\u001b[1;33m.\u001b[0m\u001b[0mformat\u001b[0m\u001b[1;33m(\u001b[0m\u001b[0mt\u001b[0m\u001b[1;33m)\u001b[0m\u001b[1;33m]\u001b[0m \u001b[1;33m=\u001b[0m \u001b[1;33m[\u001b[0m\u001b[0meps\u001b[0m\u001b[1;33m,\u001b[0m \u001b[0msarsa\u001b[0m\u001b[1;33m,\u001b[0m \u001b[0mql\u001b[0m\u001b[1;33m]\u001b[0m\u001b[1;33m\u001b[0m\u001b[0m\n\u001b[0m\u001b[0;32m     14\u001b[0m \u001b[1;33m\u001b[0m\u001b[0m\n\u001b[0;32m     15\u001b[0m \u001b[0mrecap\u001b[0m\u001b[1;33m\u001b[0m\u001b[0m\n",
      "\u001b[1;32mc:\\environments\\drl_env\\lib\\site-packages\\pandas\\core\\indexing.py\u001b[0m in \u001b[0;36m__setitem__\u001b[1;34m(self, key, value)\u001b[0m\n\u001b[0;32m    187\u001b[0m             \u001b[0mkey\u001b[0m \u001b[1;33m=\u001b[0m \u001b[0mcom\u001b[0m\u001b[1;33m.\u001b[0m\u001b[0m_apply_if_callable\u001b[0m\u001b[1;33m(\u001b[0m\u001b[0mkey\u001b[0m\u001b[1;33m,\u001b[0m \u001b[0mself\u001b[0m\u001b[1;33m.\u001b[0m\u001b[0mobj\u001b[0m\u001b[1;33m)\u001b[0m\u001b[1;33m\u001b[0m\u001b[0m\n\u001b[0;32m    188\u001b[0m         \u001b[0mindexer\u001b[0m \u001b[1;33m=\u001b[0m \u001b[0mself\u001b[0m\u001b[1;33m.\u001b[0m\u001b[0m_get_setitem_indexer\u001b[0m\u001b[1;33m(\u001b[0m\u001b[0mkey\u001b[0m\u001b[1;33m)\u001b[0m\u001b[1;33m\u001b[0m\u001b[0m\n\u001b[1;32m--> 189\u001b[1;33m         \u001b[0mself\u001b[0m\u001b[1;33m.\u001b[0m\u001b[0m_setitem_with_indexer\u001b[0m\u001b[1;33m(\u001b[0m\u001b[0mindexer\u001b[0m\u001b[1;33m,\u001b[0m \u001b[0mvalue\u001b[0m\u001b[1;33m)\u001b[0m\u001b[1;33m\u001b[0m\u001b[0m\n\u001b[0m\u001b[0;32m    190\u001b[0m \u001b[1;33m\u001b[0m\u001b[0m\n\u001b[0;32m    191\u001b[0m     \u001b[1;32mdef\u001b[0m \u001b[0m_validate_key\u001b[0m\u001b[1;33m(\u001b[0m\u001b[0mself\u001b[0m\u001b[1;33m,\u001b[0m \u001b[0mkey\u001b[0m\u001b[1;33m,\u001b[0m \u001b[0maxis\u001b[0m\u001b[1;33m)\u001b[0m\u001b[1;33m:\u001b[0m\u001b[1;33m\u001b[0m\u001b[0m\n",
      "\u001b[1;32mc:\\environments\\drl_env\\lib\\site-packages\\pandas\\core\\indexing.py\u001b[0m in \u001b[0;36m_setitem_with_indexer\u001b[1;34m(self, indexer, value)\u001b[0m\n\u001b[0;32m    443\u001b[0m                         \u001b[1;32mif\u001b[0m \u001b[0mis_list_like_indexer\u001b[0m\u001b[1;33m(\u001b[0m\u001b[0mvalue\u001b[0m\u001b[1;33m)\u001b[0m\u001b[1;33m:\u001b[0m\u001b[1;33m\u001b[0m\u001b[0m\n\u001b[0;32m    444\u001b[0m                             \u001b[1;32mif\u001b[0m \u001b[0mlen\u001b[0m\u001b[1;33m(\u001b[0m\u001b[0mvalue\u001b[0m\u001b[1;33m)\u001b[0m \u001b[1;33m!=\u001b[0m \u001b[0mlen\u001b[0m\u001b[1;33m(\u001b[0m\u001b[0mself\u001b[0m\u001b[1;33m.\u001b[0m\u001b[0mobj\u001b[0m\u001b[1;33m.\u001b[0m\u001b[0mcolumns\u001b[0m\u001b[1;33m)\u001b[0m\u001b[1;33m:\u001b[0m\u001b[1;33m\u001b[0m\u001b[0m\n\u001b[1;32m--> 445\u001b[1;33m                                 raise ValueError(\"cannot set a row with \"\n\u001b[0m\u001b[0;32m    446\u001b[0m                                                  \"mismatched columns\")\n\u001b[0;32m    447\u001b[0m \u001b[1;33m\u001b[0m\u001b[0m\n",
      "\u001b[1;31mValueError\u001b[0m: cannot set a row with mismatched columns"
     ],
     "output_type": "error"
    }
   ],
   "source": [
    "n = 5\n",
    "\n",
    "for t in [1, 0.1, 0.01, 0.001]:\n",
    "    sarsa = 0\n",
    "    ql = 0\n",
    "    for _ in range(n):\n",
    "        q_table, histAcc = QLearning(5000, softmax = True, tau = t)\n",
    "        ql += testPolicy(q_table)\n",
    "        q_table, histAcc = SARSA(5000, softmax = True, tau = t)\n",
    "        sarsa += testPolicy(q_table)\n",
    "    sarsa /= n\n",
    "    ql /= n\n",
    "    recap.loc[\"Softmax : $\\tau$ = {}\".format(t)] = [sarsa, ql]\n",
    "\n",
    "recap"
   ]
  }
 ],
 "metadata": {
  "kernelspec": {
   "display_name": "DRL",
   "language": "python",
   "name": "drl"
  },
  "language_info": {
   "codemirror_mode": {
    "name": "ipython",
    "version": 3
   },
   "file_extension": ".py",
   "mimetype": "text/x-python",
   "name": "python",
   "nbconvert_exporter": "python",
   "pygments_lexer": "ipython3",
   "version": "3.6.1"
  }
 },
 "nbformat": 4,
 "nbformat_minor": 2
}
