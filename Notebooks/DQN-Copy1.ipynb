{
 "cells": [
  {
   "cell_type": "code",
   "execution_count": null,
   "metadata": {},
   "outputs": [],
   "source": [
    "import torch\n",
    "import torch.nn as nn"
   ]
  },
  {
   "cell_type": "code",
   "execution_count": null,
   "metadata": {},
   "outputs": [],
   "source": [
    "import numpy as np\n",
    "import random\n",
    "import matplotlib.pyplot as plt\n",
    "%matplotlib inline\n",
    "import pandas as pd\n",
    "import copy\n",
    "import gym\n",
    "import retro"
   ]
  },
  {
   "cell_type": "code",
   "execution_count": 8,
   "metadata": {},
   "outputs": [],
   "source": [
    "class ImageToPyTorch(gym.ObservationWrapper):\n",
    "    def __init__(self, env):\n",
    "        super(ImageToPyTorch, self).__init__(env)\n",
    "        old_shape = self.observation_space.shape\n",
    "        self.observation_space = gym.spaces.Box(low=0.0, high=1.0, shape=(old_shape[-1], old_shape[0], old_shape[1]), dtype=np.float32)\n",
    "\n",
    "    def observation(self, observation):\n",
    "        return np.moveaxis(observation, 2, 0)\n",
    "\n",
    "env = retro.make(game='AirStriker-Genesis')\n",
    "env = ImageToPyTorch(env)"
   ]
  },
  {
   "cell_type": "code",
   "execution_count": null,
   "metadata": {},
   "outputs": [],
   "source": [
    "class DQN(nn.Module):\n",
    "    def __init__(self, input_shape, n_actions):\n",
    "        super(DQN, self).__init__()\n",
    "        self.conv = nn.Sequential(\n",
    "            nn.Conv2d(input_shape[0], 32, kernel_size=8, stride=4),\n",
    "            nn.ReLU(),\n",
    "            nn.Conv2d(32, 64, kernel_size=4, stride=2),\n",
    "            nn.ReLU(),\n",
    "            nn.Conv2d(64, 64, kernel_size=3, stride=1),\n",
    "            nn.ReLU()\n",
    "        )\n",
    "\n",
    "        conv_out_size = self._get_conv_out(input_shape)\n",
    "        self.fc = nn.Sequential(\n",
    "            nn.Linear(conv_out_size, 512),\n",
    "            nn.ReLU(),\n",
    "            nn.Linear(512, n_actions)\n",
    "        )\n",
    "        \n",
    "        def _get_conv_out(self, shape):\n",
    "        o = self.conv(torch.zeros(1, *shape))\n",
    "        return int(np.prod(o.size()))\n",
    "\n",
    "    def forward(self, x):\n",
    "        conv_out = self.conv(x).view(x.size()[0], -1)\n",
    "        return self.fc(conv_out)"
   ]
  },
  {
   "cell_type": "code",
   "execution_count": 83,
   "metadata": {},
   "outputs": [],
   "source": [
    "miniBatchSize = 32\n",
    "N = 1000 "
   ]
  },
  {
   "cell_type": "code",
   "execution_count": 149,
   "metadata": {},
   "outputs": [],
   "source": [
    "def main(nEpisode=100, gamma = 0.99, epsilon0 = 0.9, maxIter = 200):\n",
    "    epsilon = epsilon0\n",
    "    buffer = set()\n",
    "    loss_fn = torch.nn.MSELoss()\n",
    "    Q = nn.Sequential(\n",
    "            nn.Conv2d(input_shape[0], 32, kernel_size=8, stride=4),\n",
    "            nn.ReLU(),\n",
    "            nn.Conv2d(32, 64, kernel_size=4, stride=2),\n",
    "            nn.ReLU(),\n",
    "            nn.Conv2d(64, 64, kernel_size=3, stride=1),\n",
    "            nn.ReLU()\n",
    "        )\n",
    "    QHat = copy.deepcopy(Q)\n",
    "    for step in tqdm(range(nEpisode)):\n",
    "        obs = env.reset()\n",
    "        for _ in range(maxIter):\n",
    "            epsilon = 0.99*epsilon\n",
    "            if np.random.random() < epsilon:\n",
    "                action = env.action_space.sample()\n",
    "            else:\n",
    "                action = 0\n",
    "                M = Q(torch.FloatTensor([obs, action]))\n",
    "                for i in range(env.action_space.n):\n",
    "                    if Q(torch.FloatTensor([obs, i])) > M:\n",
    "                        action = i\n",
    "                        M = Q(torch.FloatTensor([obs, i]))\n",
    "            obsNext, reward, done , _ = env.step(action)\n",
    "            buffer.add((obs, action, reward, done, obsNext))\n",
    "            obs = obsNext\n",
    "            minibatch = random.sample(buffer, min(len(buffer), miniBatchSize))\n",
    "            optimizer = torch.optim.SGD(Q.parameters(), lr = 0.01, momentum = 0.9)\n",
    "            for o, a, r, d, oN in minibatch:\n",
    "                M = QHat(torch.FloatTensor([oN, action]))\n",
    "                for i in range(env.action_space.n):\n",
    "                    if QHat(torch.FloatTensor([oN, i])) > M:\n",
    "                        M = QHat(torch.FloatTensor([oN, i]))\n",
    "                output = Q(torch.FloatTensor([o, a]))\n",
    "                target = torch.FloatTensor([r if d else r + gamma * M])\n",
    "                optimizer.zero_grad()\n",
    "                loss = loss_fn(output, target)\n",
    "                loss.backward()\n",
    "                optimizer.step()   \n",
    "            if step % N == 0:\n",
    "                QHat = copy.deepcopy(Q)        \n",
    "            if done:\n",
    "                break\n",
    "    return Q"
   ]
  },
  {
   "cell_type": "code",
   "execution_count": 143,
   "metadata": {},
   "outputs": [
    {
     "name": "stdout",
     "output_type": "stream",
     "text": [
      "0\n",
      "1\n",
      "2\n",
      "3\n",
      "4\n",
      "5\n",
      "6\n",
      "7\n",
      "8\n",
      "9\n",
      "10\n",
      "11\n",
      "12\n",
      "13\n",
      "14\n",
      "15\n",
      "16\n",
      "17\n",
      "18\n",
      "19\n"
     ]
    }
   ],
   "source": [
    "Q = main(20)"
   ]
  },
  {
   "cell_type": "code",
   "execution_count": 144,
   "metadata": {},
   "outputs": [],
   "source": [
    "def transform(Q, s, a):\n",
    "    return float(Q(torch.FloatTensor([s, a])))"
   ]
  },
  {
   "cell_type": "code",
   "execution_count": 145,
   "metadata": {},
   "outputs": [],
   "source": [
    "q_table = np.ones((env.observation_space.n, env.action_space.n))\n",
    "\n",
    "for i in range(env.observation_space.n):\n",
    "    for j in range(env.action_space.n):\n",
    "        q_table[i, j] = transform(Q, i, j)"
   ]
  },
  {
   "cell_type": "code",
   "execution_count": 146,
   "metadata": {},
   "outputs": [],
   "source": [
    "def testPolicy (q_table, nEpisode = 2000):\n",
    "    success = 0\n",
    "    for _ in range(nEpisode):\n",
    "        t = 0\n",
    "        observation = env.reset()\n",
    "        done  = False\n",
    "        actionTable = np.argmax(q_table, axis = 1)\n",
    "        while not done and t < 200:\n",
    "            action = actionTable[observation]\n",
    "            observation, reward, done, info = env.step(action)\n",
    "            t += 1\n",
    "\n",
    "        if reward == 1:\n",
    "            success += 1\n",
    "    return success / nEpisode"
   ]
  },
  {
   "cell_type": "code",
   "execution_count": 147,
   "metadata": {},
   "outputs": [
    {
     "data": {
      "text/plain": [
       "0.0"
      ]
     },
     "execution_count": 147,
     "metadata": {},
     "output_type": "execute_result"
    }
   ],
   "source": [
    "testPolicy(q_table)"
   ]
  },
  {
   "cell_type": "code",
   "execution_count": 148,
   "metadata": {},
   "outputs": [
    {
     "data": {
      "text/plain": [
       "array([[0., 0., 0., 0.],\n",
       "       [0., 0., 0., 0.],\n",
       "       [0., 0., 0., 0.],\n",
       "       [0., 0., 0., 0.],\n",
       "       [0., 0., 0., 0.],\n",
       "       [0., 0., 0., 0.],\n",
       "       [0., 0., 0., 0.],\n",
       "       [0., 0., 0., 0.],\n",
       "       [0., 0., 0., 0.],\n",
       "       [0., 0., 0., 0.],\n",
       "       [0., 0., 0., 0.],\n",
       "       [0., 0., 0., 0.],\n",
       "       [0., 0., 0., 0.],\n",
       "       [0., 0., 0., 0.],\n",
       "       [0., 0., 0., 0.],\n",
       "       [0., 0., 0., 0.]])"
      ]
     },
     "execution_count": 148,
     "metadata": {},
     "output_type": "execute_result"
    }
   ],
   "source": [
    "q_table"
   ]
  },
  {
   "cell_type": "code",
   "execution_count": null,
   "metadata": {},
   "outputs": [],
   "source": []
  }
 ],
 "metadata": {
  "kernelspec": {
   "display_name": "Python 3",
   "language": "python",
   "name": "python3"
  },
  "language_info": {
   "codemirror_mode": {
    "name": "ipython",
    "version": 3
   },
   "file_extension": ".py",
   "mimetype": "text/x-python",
   "name": "python",
   "nbconvert_exporter": "python",
   "pygments_lexer": "ipython3",
   "version": "3.6.1"
  }
 },
 "nbformat": 4,
 "nbformat_minor": 2
}
